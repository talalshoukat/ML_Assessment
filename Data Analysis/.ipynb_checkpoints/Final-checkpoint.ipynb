{
 "cells": [
  {
   "cell_type": "markdown",
   "id": "27086663-60f6-4691-8680-54c9f8449c71",
   "metadata": {},
   "source": [
    "# Assignment- Data Analysis"
   ]
  },
  {
   "cell_type": "markdown",
   "id": "1e33cf0c-5bde-4b8f-8a11-04afc1530c5e",
   "metadata": {},
   "source": [
    "## Downloading Libraries"
   ]
  },
  {
   "cell_type": "code",
   "execution_count": null,
   "id": "6e1bb15d-c656-4fa0-bc7e-02a9ad584cd8",
   "metadata": {},
   "outputs": [],
   "source": [
    "!pip install pandas-profiling\n",
    "!pip install  pandasql "
   ]
  },
  {
   "cell_type": "markdown",
   "id": "972ad00a-e1b7-4417-af91-93bdf2ee14b0",
   "metadata": {},
   "source": [
    "## Importing Librarries"
   ]
  },
  {
   "cell_type": "code",
   "execution_count": 2,
   "id": "69cd89bb-0c0a-4de1-97c9-9fd1dde120cf",
   "metadata": {},
   "outputs": [],
   "source": [
    "# Load the Pandas libraries with alias 'pd' \n",
    "import pandas as pd \n",
    "import pandasql as ps\n",
    "from pandas_profiling import ProfileReport"
   ]
  },
  {
   "cell_type": "markdown",
   "id": "ea148dfd-0453-4f4a-8313-fc47386b3a43",
   "metadata": {},
   "source": [
    "## Loading Dataset"
   ]
  },
  {
   "cell_type": "code",
   "execution_count": 3,
   "id": "444160b2-1657-4a0c-96c3-3981d87b9506",
   "metadata": {},
   "outputs": [],
   "source": [
    "notes = pd.read_csv(\"Data/notes.csv\").drop('id', axis=1)\n",
    "patient = pd.read_csv(\"Data/patient_mapping.csv\")\n",
    "admission = pd.read_csv(\"Data/admission.csv\").drop('id', axis=1) \n",
    "processed = pd.read_csv(\"Data/processed_data.csv\").drop('id', axis=1) "
   ]
  },
  {
   "cell_type": "markdown",
   "id": "ff158fad-c82b-4a3d-a6a9-d46e0f45b2a0",
   "metadata": {},
   "source": [
    "## Profiling"
   ]
  },
  {
   "cell_type": "code",
   "execution_count": 4,
   "id": "ef07d5bd-e59f-4ed6-92b6-dce72a54ae5a",
   "metadata": {},
   "outputs": [],
   "source": [
    "# Uncomment to generate profiling reports\n",
    "\n",
    "# ProfileReport(notes, title=\"Notes Profiling Report\").to_file(\"Reports/notes.html\")\n",
    "# ProfileReport(admission, title=\"Admission Profiling Report\").to_file(\"Reports/admission.html\")\n",
    "# ProfileReport(processed, title=\"Processed Profiling Report\").to_file(\"Reports/processed.html\")"
   ]
  },
  {
   "cell_type": "markdown",
   "id": "40a6753e-5897-44f6-b095-7559eff5bf6d",
   "metadata": {},
   "source": [
    "# Data Cleaning "
   ]
  },
  {
   "cell_type": "markdown",
   "id": "363c27b5-6f20-4c14-bba2-099a8ed52216",
   "metadata": {},
   "source": [
    "#### Column rename where spelling mistake"
   ]
  },
  {
   "cell_type": "code",
   "execution_count": 5,
   "id": "4402e701-652c-4923-9e47-ab644785d74b",
   "metadata": {},
   "outputs": [],
   "source": [
    "admission.rename(columns={'admision_type': 'admission_type'},inplace=True)"
   ]
  },
  {
   "cell_type": "markdown",
   "id": "3b2049d3-a4ac-4036-8f5c-556218020d6b",
   "metadata": {},
   "source": [
    "#### Reg Number in notes DF is converted into patient_number and year"
   ]
  },
  {
   "cell_type": "code",
   "execution_count": 6,
   "id": "b14d5afb-9533-4167-a6bf-3c90df888ce8",
   "metadata": {},
   "outputs": [],
   "source": [
    "# notes['admission_type'] = notes.reg_number.astype(str).str[:2]\n",
    "notes['patient_number'] = notes.reg_number.astype(str).str[2:8]\n",
    "notes['year'] ='20'+notes.reg_number.astype(str).str[-2:]\n",
    "notes.drop('reg_number', axis=1,inplace=True)\n",
    "notes[\"patient_number\"] = pd.to_numeric(notes[\"patient_number\"])"
   ]
  },
  {
   "cell_type": "markdown",
   "id": "432ba3b4-33af-4013-ba3d-d74fc23a3c41",
   "metadata": {},
   "source": [
    "#### DF are joined with patient DF where mapping of Patient Number(PN) and Citizen Number (CN) are stored"
   ]
  },
  {
   "cell_type": "code",
   "execution_count": 7,
   "id": "1f8fb470-f7cc-4d06-ac41-21841288c3d9",
   "metadata": {},
   "outputs": [],
   "source": [
    "processedpatient = patient.merge(processed, how='left', on='patient_number',suffixes=('', '_proc'))\n",
    "processed_notes_pat = processedpatient.merge(notes, how='left', on='patient_number',suffixes=('', '_notes'))\n",
    "merged_df = processed_notes_pat.merge(admission, how='left', on='citizen_number',suffixes=('', '_adm'))"
   ]
  },
  {
   "cell_type": "markdown",
   "id": "89b8c1a7-4ddb-4dbc-b9cf-9fce251421b1",
   "metadata": {},
   "source": [
    "#### Fill Admission date and type if missing, from Admission table fields "
   ]
  },
  {
   "cell_type": "code",
   "execution_count": 8,
   "id": "658d555c-de39-4590-a784-0ffe6ce7ca19",
   "metadata": {},
   "outputs": [],
   "source": [
    "merged_df['admission_date'].fillna(merged_df['admission_date_adm'],inplace=True)\n",
    "merged_df['admission_type'].fillna(merged_df['admission_type_adm'],inplace=True)"
   ]
  },
  {
   "cell_type": "markdown",
   "id": "d5188978-e9e0-47ce-adca-92d786754778",
   "metadata": {},
   "source": [
    "#### Check mismatch count"
   ]
  },
  {
   "cell_type": "code",
   "execution_count": 9,
   "id": "32ba66c6-ebbe-4799-a870-286992f993d9",
   "metadata": {},
   "outputs": [
    {
     "name": "stdout",
     "output_type": "stream",
     "text": [
      "Mapping issue in admission 89\n",
      "Mapping issue in processed 0\n",
      "Mapping issue in notes 0\n"
     ]
    }
   ],
   "source": [
    "print(\"Mapping issue in admission \"+ str(len(merged_df[merged_df.iloc[:, -4:].isnull().all(axis='columns')]))) \n",
    "print(\"Mapping issue in processed \"+ str(len(merged_df[merged_df.iloc[:, 2:8].isnull().all(axis='columns')])))\n",
    "print(\"Mapping issue in notes \"+ str(len(merged_df[merged_df.iloc[:, 8:13].isnull().all(axis='columns')])))\n"
   ]
  },
  {
   "cell_type": "markdown",
   "id": "d1cdf788-763b-4a49-99af-a03cbb12dd67",
   "metadata": {},
   "source": [
    "### Filter out data with missing admission data but having not null admission_date and admission_type in Processed DF "
   ]
  },
  {
   "cell_type": "code",
   "execution_count": 10,
   "id": "13db231c-074b-46ef-9a38-db90a18e858c",
   "metadata": {},
   "outputs": [],
   "source": [
    "merged_filter =  merged_df[merged_df.iloc[:, -4:].isnull().all(axis='columns')].groupby([\"admission_date\",\"admission_type\"]).filter(lambda x: len(x) == 1)\n",
    "merged_filter.drop(merged_filter.iloc[:, -4:], axis=1,inplace=True)\n",
    "\n",
    "# Filtering data in admission DF where Citizen Number is null and admission_date and admission_type are unique\n",
    "\n",
    "adm_filter = admission[admission[\"citizen_number\"].isna()].groupby([\"admission_date\",\"admission_type\"]).filter(lambda x: len(x) == 1)\n",
    "adm_filter.drop(['citizen_number'], axis=1,inplace=True)\n",
    "\n",
    "# Joining filtered unmatched data with the Admission data (in which CNIC is NA) based on admission date and Type\n",
    "temp =merged_filter.merge(adm_filter, how='left', on= ['admission_date','admission_type'])"
   ]
  },
  {
   "cell_type": "markdown",
   "id": "c310f03f-08ee-4bb9-9ff4-0b73a1a8210d",
   "metadata": {},
   "source": [
    "### Combine temp dataFrame with merged DF by CN to fill mismatched value"
   ]
  },
  {
   "cell_type": "code",
   "execution_count": 11,
   "id": "da424fc3-888d-4544-b43b-97e551738746",
   "metadata": {},
   "outputs": [],
   "source": [
    "merged_df = merged_df.set_index(\"citizen_number\").combine_first(temp.set_index(\"citizen_number\")).reset_index()"
   ]
  },
  {
   "cell_type": "code",
   "execution_count": 12,
   "id": "2a3a7fcb-441c-4c09-844a-1fa625495e89",
   "metadata": {},
   "outputs": [
    {
     "name": "stdout",
     "output_type": "stream",
     "text": [
      "Mapping issue 4\n"
     ]
    }
   ],
   "source": [
    "mask = ((merged_df['discharge_date'].isna())  & (merged_df['admission_notes'].isna()))\n",
    "\n",
    "# Count mismatch rows \n",
    "print(\"Mapping issue \"+ str(len(merged_df[mask])))"
   ]
  },
  {
   "cell_type": "markdown",
   "id": "36706fd6-08d8-4141-b9a7-584ed6668998",
   "metadata": {},
   "source": [
    "## Display perfectly mapped rows"
   ]
  },
  {
   "cell_type": "code",
   "execution_count": 13,
   "id": "40434bc3-580e-4ef1-97de-d53825cdcb82",
   "metadata": {},
   "outputs": [
    {
     "data": {
      "text/html": [
       "<div>\n",
       "<style scoped>\n",
       "    .dataframe tbody tr th:only-of-type {\n",
       "        vertical-align: middle;\n",
       "    }\n",
       "\n",
       "    .dataframe tbody tr th {\n",
       "        vertical-align: top;\n",
       "    }\n",
       "\n",
       "    .dataframe thead th {\n",
       "        text-align: right;\n",
       "    }\n",
       "</style>\n",
       "<table border=\"1\" class=\"dataframe\">\n",
       "  <thead>\n",
       "    <tr style=\"text-align: right;\">\n",
       "      <th></th>\n",
       "      <th>citizen_number</th>\n",
       "      <th>admission_date</th>\n",
       "      <th>admission_notes</th>\n",
       "      <th>admission_time</th>\n",
       "      <th>admission_type</th>\n",
       "      <th>discharge_date</th>\n",
       "      <th>doctors_note</th>\n",
       "      <th>final_notes</th>\n",
       "      <th>final_remarks</th>\n",
       "      <th>first_name</th>\n",
       "      <th>last_name</th>\n",
       "      <th>patient_number</th>\n",
       "      <th>processed_by</th>\n",
       "      <th>remarks</th>\n",
       "      <th>year</th>\n",
       "    </tr>\n",
       "  </thead>\n",
       "  <tbody>\n",
       "    <tr>\n",
       "      <th>0</th>\n",
       "      <td>CN101357</td>\n",
       "      <td>2010-11-27</td>\n",
       "      <td>Admission Note 456</td>\n",
       "      <td>16:05:58</td>\n",
       "      <td>AC</td>\n",
       "      <td>2016-10-04</td>\n",
       "      <td>sample_note 617</td>\n",
       "      <td>sample_note 313</td>\n",
       "      <td>Final Remarks 172</td>\n",
       "      <td>John</td>\n",
       "      <td>Doe</td>\n",
       "      <td>981542</td>\n",
       "      <td>Doctor_XYZ</td>\n",
       "      <td>Remarks 585</td>\n",
       "      <td>2010</td>\n",
       "    </tr>\n",
       "    <tr>\n",
       "      <th>1</th>\n",
       "      <td>CN101535</td>\n",
       "      <td>2016-01-07</td>\n",
       "      <td>Admission Note 964</td>\n",
       "      <td>18:08:28</td>\n",
       "      <td>AC</td>\n",
       "      <td>2016-06-28</td>\n",
       "      <td>sample_note 237</td>\n",
       "      <td>sample_note 311</td>\n",
       "      <td>Final Remarks 170</td>\n",
       "      <td>Jane</td>\n",
       "      <td>Doe</td>\n",
       "      <td>180537</td>\n",
       "      <td>Doctor_XYZ</td>\n",
       "      <td>Remarks 806</td>\n",
       "      <td>2016</td>\n",
       "    </tr>\n",
       "    <tr>\n",
       "      <th>2</th>\n",
       "      <td>CN101723</td>\n",
       "      <td>2015-05-20</td>\n",
       "      <td>Admission Note 425</td>\n",
       "      <td>12:42:35</td>\n",
       "      <td>AC</td>\n",
       "      <td>2018-10-16</td>\n",
       "      <td>sample_note 140</td>\n",
       "      <td>sample_note 983</td>\n",
       "      <td>Final Remarks 321</td>\n",
       "      <td>Jane</td>\n",
       "      <td>Doe</td>\n",
       "      <td>901167</td>\n",
       "      <td>Doctor_XYZ</td>\n",
       "      <td>Remarks 628</td>\n",
       "      <td>2015</td>\n",
       "    </tr>\n",
       "    <tr>\n",
       "      <th>3</th>\n",
       "      <td>CN102589</td>\n",
       "      <td>2010-02-11</td>\n",
       "      <td>Admission Note 944</td>\n",
       "      <td>06:39:26</td>\n",
       "      <td>AC</td>\n",
       "      <td>2010-10-13</td>\n",
       "      <td>sample_note 381</td>\n",
       "      <td>sample_note 370</td>\n",
       "      <td>Final Remarks 517</td>\n",
       "      <td>John</td>\n",
       "      <td>Doe</td>\n",
       "      <td>291696</td>\n",
       "      <td>Doctor_XYZ</td>\n",
       "      <td>Remarks 471</td>\n",
       "      <td>2010</td>\n",
       "    </tr>\n",
       "    <tr>\n",
       "      <th>4</th>\n",
       "      <td>CN103080</td>\n",
       "      <td>2012-08-06</td>\n",
       "      <td>Admission Note 102</td>\n",
       "      <td>10:27:33</td>\n",
       "      <td>AC</td>\n",
       "      <td>2019-06-05</td>\n",
       "      <td>sample_note 412</td>\n",
       "      <td>sample_note 935</td>\n",
       "      <td>Final Remarks 852</td>\n",
       "      <td>Jane</td>\n",
       "      <td>Doe</td>\n",
       "      <td>128115</td>\n",
       "      <td>Doctor_XYZ</td>\n",
       "      <td>Remarks 826</td>\n",
       "      <td>2012</td>\n",
       "    </tr>\n",
       "    <tr>\n",
       "      <th>...</th>\n",
       "      <td>...</td>\n",
       "      <td>...</td>\n",
       "      <td>...</td>\n",
       "      <td>...</td>\n",
       "      <td>...</td>\n",
       "      <td>...</td>\n",
       "      <td>...</td>\n",
       "      <td>...</td>\n",
       "      <td>...</td>\n",
       "      <td>...</td>\n",
       "      <td>...</td>\n",
       "      <td>...</td>\n",
       "      <td>...</td>\n",
       "      <td>...</td>\n",
       "      <td>...</td>\n",
       "    </tr>\n",
       "    <tr>\n",
       "      <th>995</th>\n",
       "      <td>CN996343</td>\n",
       "      <td>2015-07-11</td>\n",
       "      <td>Admission Note 524</td>\n",
       "      <td>05:51:34</td>\n",
       "      <td>ER</td>\n",
       "      <td>2018-01-16</td>\n",
       "      <td>sample_note 18</td>\n",
       "      <td>sample_note 806</td>\n",
       "      <td>Final Remarks 270</td>\n",
       "      <td>Jane</td>\n",
       "      <td>Doe</td>\n",
       "      <td>967872</td>\n",
       "      <td>Doctor_XYZ</td>\n",
       "      <td>Remarks 438</td>\n",
       "      <td>2015</td>\n",
       "    </tr>\n",
       "    <tr>\n",
       "      <th>996</th>\n",
       "      <td>CN996512</td>\n",
       "      <td>2010-07-27</td>\n",
       "      <td>Admission Note 61</td>\n",
       "      <td>17:25:07</td>\n",
       "      <td>ER</td>\n",
       "      <td>2017-08-14</td>\n",
       "      <td>sample_note 314</td>\n",
       "      <td>sample_note 285</td>\n",
       "      <td>Final Remarks 80</td>\n",
       "      <td>John</td>\n",
       "      <td>Doe</td>\n",
       "      <td>207165</td>\n",
       "      <td>Doctor_XYZ</td>\n",
       "      <td>Remarks 471</td>\n",
       "      <td>2010</td>\n",
       "    </tr>\n",
       "    <tr>\n",
       "      <th>997</th>\n",
       "      <td>CN997928</td>\n",
       "      <td>2018-07-04</td>\n",
       "      <td>Admission Note 108</td>\n",
       "      <td>03:55:22</td>\n",
       "      <td>ER</td>\n",
       "      <td>2019-03-10</td>\n",
       "      <td>sample_note 752</td>\n",
       "      <td>sample_note 762</td>\n",
       "      <td>Final Remarks 266</td>\n",
       "      <td>Jane</td>\n",
       "      <td>Doe</td>\n",
       "      <td>914512</td>\n",
       "      <td>Doctor_XYZ</td>\n",
       "      <td>Remarks 721</td>\n",
       "      <td>2018</td>\n",
       "    </tr>\n",
       "    <tr>\n",
       "      <th>998</th>\n",
       "      <td>CN998610</td>\n",
       "      <td>2014-11-02</td>\n",
       "      <td>Admission Note 485</td>\n",
       "      <td>01:54:09</td>\n",
       "      <td>AC</td>\n",
       "      <td>2019-04-12</td>\n",
       "      <td>sample_note 962</td>\n",
       "      <td>sample_note 135</td>\n",
       "      <td>Final Remarks 527</td>\n",
       "      <td>Jane</td>\n",
       "      <td>Doe</td>\n",
       "      <td>731007</td>\n",
       "      <td>Doctor_XYZ</td>\n",
       "      <td>Remarks 188</td>\n",
       "      <td>2014</td>\n",
       "    </tr>\n",
       "    <tr>\n",
       "      <th>999</th>\n",
       "      <td>CN998870</td>\n",
       "      <td>2014-03-10</td>\n",
       "      <td>Admission Note 43</td>\n",
       "      <td>20:17:44</td>\n",
       "      <td>AC</td>\n",
       "      <td>2014-11-09</td>\n",
       "      <td>sample_note 756</td>\n",
       "      <td>sample_note 503</td>\n",
       "      <td>Final Remarks 8</td>\n",
       "      <td>Jane</td>\n",
       "      <td>Doe</td>\n",
       "      <td>804937</td>\n",
       "      <td>Doctor_XYZ</td>\n",
       "      <td>Remarks 210</td>\n",
       "      <td>2014</td>\n",
       "    </tr>\n",
       "  </tbody>\n",
       "</table>\n",
       "<p>996 rows × 15 columns</p>\n",
       "</div>"
      ],
      "text/plain": [
       "    citizen_number admission_date     admission_notes admission_time  \\\n",
       "0         CN101357     2010-11-27  Admission Note 456       16:05:58   \n",
       "1         CN101535     2016-01-07  Admission Note 964       18:08:28   \n",
       "2         CN101723     2015-05-20  Admission Note 425       12:42:35   \n",
       "3         CN102589     2010-02-11  Admission Note 944       06:39:26   \n",
       "4         CN103080     2012-08-06  Admission Note 102       10:27:33   \n",
       "..             ...            ...                 ...            ...   \n",
       "995       CN996343     2015-07-11  Admission Note 524       05:51:34   \n",
       "996       CN996512     2010-07-27   Admission Note 61       17:25:07   \n",
       "997       CN997928     2018-07-04  Admission Note 108       03:55:22   \n",
       "998       CN998610     2014-11-02  Admission Note 485       01:54:09   \n",
       "999       CN998870     2014-03-10   Admission Note 43       20:17:44   \n",
       "\n",
       "    admission_type discharge_date     doctors_note      final_notes  \\\n",
       "0               AC     2016-10-04  sample_note 617  sample_note 313   \n",
       "1               AC     2016-06-28  sample_note 237  sample_note 311   \n",
       "2               AC     2018-10-16  sample_note 140  sample_note 983   \n",
       "3               AC     2010-10-13  sample_note 381  sample_note 370   \n",
       "4               AC     2019-06-05  sample_note 412  sample_note 935   \n",
       "..             ...            ...              ...              ...   \n",
       "995             ER     2018-01-16   sample_note 18  sample_note 806   \n",
       "996             ER     2017-08-14  sample_note 314  sample_note 285   \n",
       "997             ER     2019-03-10  sample_note 752  sample_note 762   \n",
       "998             AC     2019-04-12  sample_note 962  sample_note 135   \n",
       "999             AC     2014-11-09  sample_note 756  sample_note 503   \n",
       "\n",
       "         final_remarks first_name last_name  patient_number processed_by  \\\n",
       "0    Final Remarks 172       John       Doe          981542   Doctor_XYZ   \n",
       "1    Final Remarks 170       Jane       Doe          180537   Doctor_XYZ   \n",
       "2    Final Remarks 321       Jane       Doe          901167   Doctor_XYZ   \n",
       "3    Final Remarks 517       John       Doe          291696   Doctor_XYZ   \n",
       "4    Final Remarks 852       Jane       Doe          128115   Doctor_XYZ   \n",
       "..                 ...        ...       ...             ...          ...   \n",
       "995  Final Remarks 270       Jane       Doe          967872   Doctor_XYZ   \n",
       "996   Final Remarks 80       John       Doe          207165   Doctor_XYZ   \n",
       "997  Final Remarks 266       Jane       Doe          914512   Doctor_XYZ   \n",
       "998  Final Remarks 527       Jane       Doe          731007   Doctor_XYZ   \n",
       "999    Final Remarks 8       Jane       Doe          804937   Doctor_XYZ   \n",
       "\n",
       "         remarks  year  \n",
       "0    Remarks 585  2010  \n",
       "1    Remarks 806  2016  \n",
       "2    Remarks 628  2015  \n",
       "3    Remarks 471  2010  \n",
       "4    Remarks 826  2012  \n",
       "..           ...   ...  \n",
       "995  Remarks 438  2015  \n",
       "996  Remarks 471  2010  \n",
       "997  Remarks 721  2018  \n",
       "998  Remarks 188  2014  \n",
       "999  Remarks 210  2014  \n",
       "\n",
       "[996 rows x 15 columns]"
      ]
     },
     "execution_count": 13,
     "metadata": {},
     "output_type": "execute_result"
    }
   ],
   "source": [
    "merged_df.drop('admission_date_adm', axis=1,inplace=True)\n",
    "merged_df.drop('admission_type_adm', axis=1,inplace=True)\n",
    "\n",
    "merged_df[merged_df[\"discharge_date\"].notna()]"
   ]
  },
  {
   "cell_type": "markdown",
   "id": "be620d71-8684-4339-a220-a808b823d941",
   "metadata": {},
   "source": [
    "# Profiling combined results"
   ]
  },
  {
   "cell_type": "code",
   "execution_count": 19,
   "id": "a27558c9-490e-4663-96b7-d537f25ce45a",
   "metadata": {},
   "outputs": [],
   "source": [
    "# Uncomment to generate profiling of final result\n",
    "# ProfileReport(merged_df, title=\"Combined Profiling Report\").to_file(\"Reports/combined.html\")"
   ]
  },
  {
   "cell_type": "markdown",
   "id": "60f4403b",
   "metadata": {},
   "source": [
    "# Additional Analysis\n",
    "### Analyised patients coming each year and their type of admission"
   ]
  },
  {
   "cell_type": "code",
   "execution_count": 64,
   "id": "edd19335",
   "metadata": {},
   "outputs": [
    {
     "data": {
      "application/vnd.plotly.v1+json": {
       "config": {
        "plotlyServerURL": "https://plot.ly"
       },
       "data": [
        {
         "alignmentgroup": "True",
         "hovertemplate": "admission_type=AC<br>year=%{x}<br>Patients=%{y}<extra></extra>",
         "legendgroup": "AC",
         "marker": {
          "color": "#636efa",
          "pattern": {
           "shape": ""
          }
         },
         "name": "AC",
         "offsetgroup": "AC",
         "orientation": "v",
         "showlegend": true,
         "textposition": "auto",
         "type": "bar",
         "x": [
          "2010",
          "2011",
          "2012",
          "2013",
          "2014",
          "2015",
          "2016",
          "2017",
          "2018",
          "2019",
          "2020"
         ],
         "xaxis": "x",
         "y": [
          24,
          19,
          25,
          20,
          25,
          21,
          28,
          26,
          24,
          22,
          33
         ],
         "yaxis": "y"
        },
        {
         "alignmentgroup": "True",
         "hovertemplate": "admission_type=ER<br>year=%{x}<br>Patients=%{y}<extra></extra>",
         "legendgroup": "ER",
         "marker": {
          "color": "#EF553B",
          "pattern": {
           "shape": ""
          }
         },
         "name": "ER",
         "offsetgroup": "ER",
         "orientation": "v",
         "showlegend": true,
         "textposition": "auto",
         "type": "bar",
         "x": [
          "2010",
          "2011",
          "2012",
          "2013",
          "2014",
          "2015",
          "2016",
          "2017",
          "2018",
          "2019",
          "2020"
         ],
         "xaxis": "x",
         "y": [
          21,
          19,
          24,
          30,
          25,
          12,
          28,
          26,
          25,
          26,
          18
         ],
         "yaxis": "y"
        },
        {
         "alignmentgroup": "True",
         "hovertemplate": "admission_type=KR<br>year=%{x}<br>Patients=%{y}<extra></extra>",
         "legendgroup": "KR",
         "marker": {
          "color": "#00cc96",
          "pattern": {
           "shape": ""
          }
         },
         "name": "KR",
         "offsetgroup": "KR",
         "orientation": "v",
         "showlegend": true,
         "textposition": "auto",
         "type": "bar",
         "x": [
          "2010",
          "2011",
          "2012",
          "2013",
          "2014",
          "2015",
          "2016",
          "2017",
          "2018",
          "2019",
          "2020"
         ],
         "xaxis": "x",
         "y": [
          22,
          24,
          28,
          26,
          23,
          15,
          27,
          21,
          19,
          30,
          23
         ],
         "yaxis": "y"
        },
        {
         "alignmentgroup": "True",
         "hovertemplate": "admission_type=SD<br>year=%{x}<br>Patients=%{y}<extra></extra>",
         "legendgroup": "SD",
         "marker": {
          "color": "#ab63fa",
          "pattern": {
           "shape": ""
          }
         },
         "name": "SD",
         "offsetgroup": "SD",
         "orientation": "v",
         "showlegend": true,
         "textposition": "auto",
         "type": "bar",
         "x": [
          "2010",
          "2011",
          "2012",
          "2013",
          "2014",
          "2015",
          "2016",
          "2017",
          "2018",
          "2019",
          "2020"
         ],
         "xaxis": "x",
         "y": [
          22,
          18,
          16,
          15,
          21,
          21,
          18,
          18,
          22,
          27,
          23
         ],
         "yaxis": "y"
        }
       ],
       "layout": {
        "barmode": "stack",
        "legend": {
         "title": {
          "text": "admission_type"
         },
         "tracegroupgap": 0
        },
        "template": {
         "data": {
          "bar": [
           {
            "error_x": {
             "color": "#2a3f5f"
            },
            "error_y": {
             "color": "#2a3f5f"
            },
            "marker": {
             "line": {
              "color": "#E5ECF6",
              "width": 0.5
             },
             "pattern": {
              "fillmode": "overlay",
              "size": 10,
              "solidity": 0.2
             }
            },
            "type": "bar"
           }
          ],
          "barpolar": [
           {
            "marker": {
             "line": {
              "color": "#E5ECF6",
              "width": 0.5
             },
             "pattern": {
              "fillmode": "overlay",
              "size": 10,
              "solidity": 0.2
             }
            },
            "type": "barpolar"
           }
          ],
          "carpet": [
           {
            "aaxis": {
             "endlinecolor": "#2a3f5f",
             "gridcolor": "white",
             "linecolor": "white",
             "minorgridcolor": "white",
             "startlinecolor": "#2a3f5f"
            },
            "baxis": {
             "endlinecolor": "#2a3f5f",
             "gridcolor": "white",
             "linecolor": "white",
             "minorgridcolor": "white",
             "startlinecolor": "#2a3f5f"
            },
            "type": "carpet"
           }
          ],
          "choropleth": [
           {
            "colorbar": {
             "outlinewidth": 0,
             "ticks": ""
            },
            "type": "choropleth"
           }
          ],
          "contour": [
           {
            "colorbar": {
             "outlinewidth": 0,
             "ticks": ""
            },
            "colorscale": [
             [
              0,
              "#0d0887"
             ],
             [
              0.1111111111111111,
              "#46039f"
             ],
             [
              0.2222222222222222,
              "#7201a8"
             ],
             [
              0.3333333333333333,
              "#9c179e"
             ],
             [
              0.4444444444444444,
              "#bd3786"
             ],
             [
              0.5555555555555556,
              "#d8576b"
             ],
             [
              0.6666666666666666,
              "#ed7953"
             ],
             [
              0.7777777777777778,
              "#fb9f3a"
             ],
             [
              0.8888888888888888,
              "#fdca26"
             ],
             [
              1,
              "#f0f921"
             ]
            ],
            "type": "contour"
           }
          ],
          "contourcarpet": [
           {
            "colorbar": {
             "outlinewidth": 0,
             "ticks": ""
            },
            "type": "contourcarpet"
           }
          ],
          "heatmap": [
           {
            "colorbar": {
             "outlinewidth": 0,
             "ticks": ""
            },
            "colorscale": [
             [
              0,
              "#0d0887"
             ],
             [
              0.1111111111111111,
              "#46039f"
             ],
             [
              0.2222222222222222,
              "#7201a8"
             ],
             [
              0.3333333333333333,
              "#9c179e"
             ],
             [
              0.4444444444444444,
              "#bd3786"
             ],
             [
              0.5555555555555556,
              "#d8576b"
             ],
             [
              0.6666666666666666,
              "#ed7953"
             ],
             [
              0.7777777777777778,
              "#fb9f3a"
             ],
             [
              0.8888888888888888,
              "#fdca26"
             ],
             [
              1,
              "#f0f921"
             ]
            ],
            "type": "heatmap"
           }
          ],
          "heatmapgl": [
           {
            "colorbar": {
             "outlinewidth": 0,
             "ticks": ""
            },
            "colorscale": [
             [
              0,
              "#0d0887"
             ],
             [
              0.1111111111111111,
              "#46039f"
             ],
             [
              0.2222222222222222,
              "#7201a8"
             ],
             [
              0.3333333333333333,
              "#9c179e"
             ],
             [
              0.4444444444444444,
              "#bd3786"
             ],
             [
              0.5555555555555556,
              "#d8576b"
             ],
             [
              0.6666666666666666,
              "#ed7953"
             ],
             [
              0.7777777777777778,
              "#fb9f3a"
             ],
             [
              0.8888888888888888,
              "#fdca26"
             ],
             [
              1,
              "#f0f921"
             ]
            ],
            "type": "heatmapgl"
           }
          ],
          "histogram": [
           {
            "marker": {
             "pattern": {
              "fillmode": "overlay",
              "size": 10,
              "solidity": 0.2
             }
            },
            "type": "histogram"
           }
          ],
          "histogram2d": [
           {
            "colorbar": {
             "outlinewidth": 0,
             "ticks": ""
            },
            "colorscale": [
             [
              0,
              "#0d0887"
             ],
             [
              0.1111111111111111,
              "#46039f"
             ],
             [
              0.2222222222222222,
              "#7201a8"
             ],
             [
              0.3333333333333333,
              "#9c179e"
             ],
             [
              0.4444444444444444,
              "#bd3786"
             ],
             [
              0.5555555555555556,
              "#d8576b"
             ],
             [
              0.6666666666666666,
              "#ed7953"
             ],
             [
              0.7777777777777778,
              "#fb9f3a"
             ],
             [
              0.8888888888888888,
              "#fdca26"
             ],
             [
              1,
              "#f0f921"
             ]
            ],
            "type": "histogram2d"
           }
          ],
          "histogram2dcontour": [
           {
            "colorbar": {
             "outlinewidth": 0,
             "ticks": ""
            },
            "colorscale": [
             [
              0,
              "#0d0887"
             ],
             [
              0.1111111111111111,
              "#46039f"
             ],
             [
              0.2222222222222222,
              "#7201a8"
             ],
             [
              0.3333333333333333,
              "#9c179e"
             ],
             [
              0.4444444444444444,
              "#bd3786"
             ],
             [
              0.5555555555555556,
              "#d8576b"
             ],
             [
              0.6666666666666666,
              "#ed7953"
             ],
             [
              0.7777777777777778,
              "#fb9f3a"
             ],
             [
              0.8888888888888888,
              "#fdca26"
             ],
             [
              1,
              "#f0f921"
             ]
            ],
            "type": "histogram2dcontour"
           }
          ],
          "mesh3d": [
           {
            "colorbar": {
             "outlinewidth": 0,
             "ticks": ""
            },
            "type": "mesh3d"
           }
          ],
          "parcoords": [
           {
            "line": {
             "colorbar": {
              "outlinewidth": 0,
              "ticks": ""
             }
            },
            "type": "parcoords"
           }
          ],
          "pie": [
           {
            "automargin": true,
            "type": "pie"
           }
          ],
          "scatter": [
           {
            "marker": {
             "colorbar": {
              "outlinewidth": 0,
              "ticks": ""
             }
            },
            "type": "scatter"
           }
          ],
          "scatter3d": [
           {
            "line": {
             "colorbar": {
              "outlinewidth": 0,
              "ticks": ""
             }
            },
            "marker": {
             "colorbar": {
              "outlinewidth": 0,
              "ticks": ""
             }
            },
            "type": "scatter3d"
           }
          ],
          "scattercarpet": [
           {
            "marker": {
             "colorbar": {
              "outlinewidth": 0,
              "ticks": ""
             }
            },
            "type": "scattercarpet"
           }
          ],
          "scattergeo": [
           {
            "marker": {
             "colorbar": {
              "outlinewidth": 0,
              "ticks": ""
             }
            },
            "type": "scattergeo"
           }
          ],
          "scattergl": [
           {
            "marker": {
             "colorbar": {
              "outlinewidth": 0,
              "ticks": ""
             }
            },
            "type": "scattergl"
           }
          ],
          "scattermapbox": [
           {
            "marker": {
             "colorbar": {
              "outlinewidth": 0,
              "ticks": ""
             }
            },
            "type": "scattermapbox"
           }
          ],
          "scatterpolar": [
           {
            "marker": {
             "colorbar": {
              "outlinewidth": 0,
              "ticks": ""
             }
            },
            "type": "scatterpolar"
           }
          ],
          "scatterpolargl": [
           {
            "marker": {
             "colorbar": {
              "outlinewidth": 0,
              "ticks": ""
             }
            },
            "type": "scatterpolargl"
           }
          ],
          "scatterternary": [
           {
            "marker": {
             "colorbar": {
              "outlinewidth": 0,
              "ticks": ""
             }
            },
            "type": "scatterternary"
           }
          ],
          "surface": [
           {
            "colorbar": {
             "outlinewidth": 0,
             "ticks": ""
            },
            "colorscale": [
             [
              0,
              "#0d0887"
             ],
             [
              0.1111111111111111,
              "#46039f"
             ],
             [
              0.2222222222222222,
              "#7201a8"
             ],
             [
              0.3333333333333333,
              "#9c179e"
             ],
             [
              0.4444444444444444,
              "#bd3786"
             ],
             [
              0.5555555555555556,
              "#d8576b"
             ],
             [
              0.6666666666666666,
              "#ed7953"
             ],
             [
              0.7777777777777778,
              "#fb9f3a"
             ],
             [
              0.8888888888888888,
              "#fdca26"
             ],
             [
              1,
              "#f0f921"
             ]
            ],
            "type": "surface"
           }
          ],
          "table": [
           {
            "cells": {
             "fill": {
              "color": "#EBF0F8"
             },
             "line": {
              "color": "white"
             }
            },
            "header": {
             "fill": {
              "color": "#C8D4E3"
             },
             "line": {
              "color": "white"
             }
            },
            "type": "table"
           }
          ]
         },
         "layout": {
          "annotationdefaults": {
           "arrowcolor": "#2a3f5f",
           "arrowhead": 0,
           "arrowwidth": 1
          },
          "autotypenumbers": "strict",
          "coloraxis": {
           "colorbar": {
            "outlinewidth": 0,
            "ticks": ""
           }
          },
          "colorscale": {
           "diverging": [
            [
             0,
             "#8e0152"
            ],
            [
             0.1,
             "#c51b7d"
            ],
            [
             0.2,
             "#de77ae"
            ],
            [
             0.3,
             "#f1b6da"
            ],
            [
             0.4,
             "#fde0ef"
            ],
            [
             0.5,
             "#f7f7f7"
            ],
            [
             0.6,
             "#e6f5d0"
            ],
            [
             0.7,
             "#b8e186"
            ],
            [
             0.8,
             "#7fbc41"
            ],
            [
             0.9,
             "#4d9221"
            ],
            [
             1,
             "#276419"
            ]
           ],
           "sequential": [
            [
             0,
             "#0d0887"
            ],
            [
             0.1111111111111111,
             "#46039f"
            ],
            [
             0.2222222222222222,
             "#7201a8"
            ],
            [
             0.3333333333333333,
             "#9c179e"
            ],
            [
             0.4444444444444444,
             "#bd3786"
            ],
            [
             0.5555555555555556,
             "#d8576b"
            ],
            [
             0.6666666666666666,
             "#ed7953"
            ],
            [
             0.7777777777777778,
             "#fb9f3a"
            ],
            [
             0.8888888888888888,
             "#fdca26"
            ],
            [
             1,
             "#f0f921"
            ]
           ],
           "sequentialminus": [
            [
             0,
             "#0d0887"
            ],
            [
             0.1111111111111111,
             "#46039f"
            ],
            [
             0.2222222222222222,
             "#7201a8"
            ],
            [
             0.3333333333333333,
             "#9c179e"
            ],
            [
             0.4444444444444444,
             "#bd3786"
            ],
            [
             0.5555555555555556,
             "#d8576b"
            ],
            [
             0.6666666666666666,
             "#ed7953"
            ],
            [
             0.7777777777777778,
             "#fb9f3a"
            ],
            [
             0.8888888888888888,
             "#fdca26"
            ],
            [
             1,
             "#f0f921"
            ]
           ]
          },
          "colorway": [
           "#636efa",
           "#EF553B",
           "#00cc96",
           "#ab63fa",
           "#FFA15A",
           "#19d3f3",
           "#FF6692",
           "#B6E880",
           "#FF97FF",
           "#FECB52"
          ],
          "font": {
           "color": "#2a3f5f"
          },
          "geo": {
           "bgcolor": "white",
           "lakecolor": "white",
           "landcolor": "#E5ECF6",
           "showlakes": true,
           "showland": true,
           "subunitcolor": "white"
          },
          "hoverlabel": {
           "align": "left"
          },
          "hovermode": "closest",
          "mapbox": {
           "style": "light"
          },
          "paper_bgcolor": "white",
          "plot_bgcolor": "#E5ECF6",
          "polar": {
           "angularaxis": {
            "gridcolor": "white",
            "linecolor": "white",
            "ticks": ""
           },
           "bgcolor": "#E5ECF6",
           "radialaxis": {
            "gridcolor": "white",
            "linecolor": "white",
            "ticks": ""
           }
          },
          "scene": {
           "xaxis": {
            "backgroundcolor": "#E5ECF6",
            "gridcolor": "white",
            "gridwidth": 2,
            "linecolor": "white",
            "showbackground": true,
            "ticks": "",
            "zerolinecolor": "white"
           },
           "yaxis": {
            "backgroundcolor": "#E5ECF6",
            "gridcolor": "white",
            "gridwidth": 2,
            "linecolor": "white",
            "showbackground": true,
            "ticks": "",
            "zerolinecolor": "white"
           },
           "zaxis": {
            "backgroundcolor": "#E5ECF6",
            "gridcolor": "white",
            "gridwidth": 2,
            "linecolor": "white",
            "showbackground": true,
            "ticks": "",
            "zerolinecolor": "white"
           }
          },
          "shapedefaults": {
           "line": {
            "color": "#2a3f5f"
           }
          },
          "ternary": {
           "aaxis": {
            "gridcolor": "white",
            "linecolor": "white",
            "ticks": ""
           },
           "baxis": {
            "gridcolor": "white",
            "linecolor": "white",
            "ticks": ""
           },
           "bgcolor": "#E5ECF6",
           "caxis": {
            "gridcolor": "white",
            "linecolor": "white",
            "ticks": ""
           }
          },
          "title": {
           "x": 0.05
          },
          "xaxis": {
           "automargin": true,
           "gridcolor": "white",
           "linecolor": "white",
           "ticks": "",
           "title": {
            "standoff": 15
           },
           "zerolinecolor": "white",
           "zerolinewidth": 2
          },
          "yaxis": {
           "automargin": true,
           "gridcolor": "white",
           "linecolor": "white",
           "ticks": "",
           "title": {
            "standoff": 15
           },
           "zerolinecolor": "white",
           "zerolinewidth": 2
          }
         }
        },
        "title": {
         "text": "Year wise Patients"
        },
        "xaxis": {
         "anchor": "y",
         "domain": [
          0,
          1
         ],
         "title": {
          "text": "year"
         }
        },
        "yaxis": {
         "anchor": "x",
         "domain": [
          0,
          1
         ],
         "title": {
          "text": "Patients"
         }
        }
       }
      },
      "text/html": [
       "<div>                            <div id=\"2231cdfa-df63-4400-a690-0c409cc2e311\" class=\"plotly-graph-div\" style=\"height:525px; width:100%;\"></div>            <script type=\"text/javascript\">                require([\"plotly\"], function(Plotly) {                    window.PLOTLYENV=window.PLOTLYENV || {};                                    if (document.getElementById(\"2231cdfa-df63-4400-a690-0c409cc2e311\")) {                    Plotly.newPlot(                        \"2231cdfa-df63-4400-a690-0c409cc2e311\",                        [{\"alignmentgroup\":\"True\",\"hovertemplate\":\"admission_type=AC<br>year=%{x}<br>Patients=%{y}<extra></extra>\",\"legendgroup\":\"AC\",\"marker\":{\"color\":\"#636efa\",\"pattern\":{\"shape\":\"\"}},\"name\":\"AC\",\"offsetgroup\":\"AC\",\"orientation\":\"v\",\"showlegend\":true,\"textposition\":\"auto\",\"type\":\"bar\",\"x\":[\"2010\",\"2011\",\"2012\",\"2013\",\"2014\",\"2015\",\"2016\",\"2017\",\"2018\",\"2019\",\"2020\"],\"xaxis\":\"x\",\"y\":[24,19,25,20,25,21,28,26,24,22,33],\"yaxis\":\"y\"},{\"alignmentgroup\":\"True\",\"hovertemplate\":\"admission_type=ER<br>year=%{x}<br>Patients=%{y}<extra></extra>\",\"legendgroup\":\"ER\",\"marker\":{\"color\":\"#EF553B\",\"pattern\":{\"shape\":\"\"}},\"name\":\"ER\",\"offsetgroup\":\"ER\",\"orientation\":\"v\",\"showlegend\":true,\"textposition\":\"auto\",\"type\":\"bar\",\"x\":[\"2010\",\"2011\",\"2012\",\"2013\",\"2014\",\"2015\",\"2016\",\"2017\",\"2018\",\"2019\",\"2020\"],\"xaxis\":\"x\",\"y\":[21,19,24,30,25,12,28,26,25,26,18],\"yaxis\":\"y\"},{\"alignmentgroup\":\"True\",\"hovertemplate\":\"admission_type=KR<br>year=%{x}<br>Patients=%{y}<extra></extra>\",\"legendgroup\":\"KR\",\"marker\":{\"color\":\"#00cc96\",\"pattern\":{\"shape\":\"\"}},\"name\":\"KR\",\"offsetgroup\":\"KR\",\"orientation\":\"v\",\"showlegend\":true,\"textposition\":\"auto\",\"type\":\"bar\",\"x\":[\"2010\",\"2011\",\"2012\",\"2013\",\"2014\",\"2015\",\"2016\",\"2017\",\"2018\",\"2019\",\"2020\"],\"xaxis\":\"x\",\"y\":[22,24,28,26,23,15,27,21,19,30,23],\"yaxis\":\"y\"},{\"alignmentgroup\":\"True\",\"hovertemplate\":\"admission_type=SD<br>year=%{x}<br>Patients=%{y}<extra></extra>\",\"legendgroup\":\"SD\",\"marker\":{\"color\":\"#ab63fa\",\"pattern\":{\"shape\":\"\"}},\"name\":\"SD\",\"offsetgroup\":\"SD\",\"orientation\":\"v\",\"showlegend\":true,\"textposition\":\"auto\",\"type\":\"bar\",\"x\":[\"2010\",\"2011\",\"2012\",\"2013\",\"2014\",\"2015\",\"2016\",\"2017\",\"2018\",\"2019\",\"2020\"],\"xaxis\":\"x\",\"y\":[22,18,16,15,21,21,18,18,22,27,23],\"yaxis\":\"y\"}],                        {\"barmode\":\"stack\",\"legend\":{\"title\":{\"text\":\"admission_type\"},\"tracegroupgap\":0},\"template\":{\"data\":{\"bar\":[{\"error_x\":{\"color\":\"#2a3f5f\"},\"error_y\":{\"color\":\"#2a3f5f\"},\"marker\":{\"line\":{\"color\":\"#E5ECF6\",\"width\":0.5},\"pattern\":{\"fillmode\":\"overlay\",\"size\":10,\"solidity\":0.2}},\"type\":\"bar\"}],\"barpolar\":[{\"marker\":{\"line\":{\"color\":\"#E5ECF6\",\"width\":0.5},\"pattern\":{\"fillmode\":\"overlay\",\"size\":10,\"solidity\":0.2}},\"type\":\"barpolar\"}],\"carpet\":[{\"aaxis\":{\"endlinecolor\":\"#2a3f5f\",\"gridcolor\":\"white\",\"linecolor\":\"white\",\"minorgridcolor\":\"white\",\"startlinecolor\":\"#2a3f5f\"},\"baxis\":{\"endlinecolor\":\"#2a3f5f\",\"gridcolor\":\"white\",\"linecolor\":\"white\",\"minorgridcolor\":\"white\",\"startlinecolor\":\"#2a3f5f\"},\"type\":\"carpet\"}],\"choropleth\":[{\"colorbar\":{\"outlinewidth\":0,\"ticks\":\"\"},\"type\":\"choropleth\"}],\"contour\":[{\"colorbar\":{\"outlinewidth\":0,\"ticks\":\"\"},\"colorscale\":[[0.0,\"#0d0887\"],[0.1111111111111111,\"#46039f\"],[0.2222222222222222,\"#7201a8\"],[0.3333333333333333,\"#9c179e\"],[0.4444444444444444,\"#bd3786\"],[0.5555555555555556,\"#d8576b\"],[0.6666666666666666,\"#ed7953\"],[0.7777777777777778,\"#fb9f3a\"],[0.8888888888888888,\"#fdca26\"],[1.0,\"#f0f921\"]],\"type\":\"contour\"}],\"contourcarpet\":[{\"colorbar\":{\"outlinewidth\":0,\"ticks\":\"\"},\"type\":\"contourcarpet\"}],\"heatmap\":[{\"colorbar\":{\"outlinewidth\":0,\"ticks\":\"\"},\"colorscale\":[[0.0,\"#0d0887\"],[0.1111111111111111,\"#46039f\"],[0.2222222222222222,\"#7201a8\"],[0.3333333333333333,\"#9c179e\"],[0.4444444444444444,\"#bd3786\"],[0.5555555555555556,\"#d8576b\"],[0.6666666666666666,\"#ed7953\"],[0.7777777777777778,\"#fb9f3a\"],[0.8888888888888888,\"#fdca26\"],[1.0,\"#f0f921\"]],\"type\":\"heatmap\"}],\"heatmapgl\":[{\"colorbar\":{\"outlinewidth\":0,\"ticks\":\"\"},\"colorscale\":[[0.0,\"#0d0887\"],[0.1111111111111111,\"#46039f\"],[0.2222222222222222,\"#7201a8\"],[0.3333333333333333,\"#9c179e\"],[0.4444444444444444,\"#bd3786\"],[0.5555555555555556,\"#d8576b\"],[0.6666666666666666,\"#ed7953\"],[0.7777777777777778,\"#fb9f3a\"],[0.8888888888888888,\"#fdca26\"],[1.0,\"#f0f921\"]],\"type\":\"heatmapgl\"}],\"histogram\":[{\"marker\":{\"pattern\":{\"fillmode\":\"overlay\",\"size\":10,\"solidity\":0.2}},\"type\":\"histogram\"}],\"histogram2d\":[{\"colorbar\":{\"outlinewidth\":0,\"ticks\":\"\"},\"colorscale\":[[0.0,\"#0d0887\"],[0.1111111111111111,\"#46039f\"],[0.2222222222222222,\"#7201a8\"],[0.3333333333333333,\"#9c179e\"],[0.4444444444444444,\"#bd3786\"],[0.5555555555555556,\"#d8576b\"],[0.6666666666666666,\"#ed7953\"],[0.7777777777777778,\"#fb9f3a\"],[0.8888888888888888,\"#fdca26\"],[1.0,\"#f0f921\"]],\"type\":\"histogram2d\"}],\"histogram2dcontour\":[{\"colorbar\":{\"outlinewidth\":0,\"ticks\":\"\"},\"colorscale\":[[0.0,\"#0d0887\"],[0.1111111111111111,\"#46039f\"],[0.2222222222222222,\"#7201a8\"],[0.3333333333333333,\"#9c179e\"],[0.4444444444444444,\"#bd3786\"],[0.5555555555555556,\"#d8576b\"],[0.6666666666666666,\"#ed7953\"],[0.7777777777777778,\"#fb9f3a\"],[0.8888888888888888,\"#fdca26\"],[1.0,\"#f0f921\"]],\"type\":\"histogram2dcontour\"}],\"mesh3d\":[{\"colorbar\":{\"outlinewidth\":0,\"ticks\":\"\"},\"type\":\"mesh3d\"}],\"parcoords\":[{\"line\":{\"colorbar\":{\"outlinewidth\":0,\"ticks\":\"\"}},\"type\":\"parcoords\"}],\"pie\":[{\"automargin\":true,\"type\":\"pie\"}],\"scatter\":[{\"marker\":{\"colorbar\":{\"outlinewidth\":0,\"ticks\":\"\"}},\"type\":\"scatter\"}],\"scatter3d\":[{\"line\":{\"colorbar\":{\"outlinewidth\":0,\"ticks\":\"\"}},\"marker\":{\"colorbar\":{\"outlinewidth\":0,\"ticks\":\"\"}},\"type\":\"scatter3d\"}],\"scattercarpet\":[{\"marker\":{\"colorbar\":{\"outlinewidth\":0,\"ticks\":\"\"}},\"type\":\"scattercarpet\"}],\"scattergeo\":[{\"marker\":{\"colorbar\":{\"outlinewidth\":0,\"ticks\":\"\"}},\"type\":\"scattergeo\"}],\"scattergl\":[{\"marker\":{\"colorbar\":{\"outlinewidth\":0,\"ticks\":\"\"}},\"type\":\"scattergl\"}],\"scattermapbox\":[{\"marker\":{\"colorbar\":{\"outlinewidth\":0,\"ticks\":\"\"}},\"type\":\"scattermapbox\"}],\"scatterpolar\":[{\"marker\":{\"colorbar\":{\"outlinewidth\":0,\"ticks\":\"\"}},\"type\":\"scatterpolar\"}],\"scatterpolargl\":[{\"marker\":{\"colorbar\":{\"outlinewidth\":0,\"ticks\":\"\"}},\"type\":\"scatterpolargl\"}],\"scatterternary\":[{\"marker\":{\"colorbar\":{\"outlinewidth\":0,\"ticks\":\"\"}},\"type\":\"scatterternary\"}],\"surface\":[{\"colorbar\":{\"outlinewidth\":0,\"ticks\":\"\"},\"colorscale\":[[0.0,\"#0d0887\"],[0.1111111111111111,\"#46039f\"],[0.2222222222222222,\"#7201a8\"],[0.3333333333333333,\"#9c179e\"],[0.4444444444444444,\"#bd3786\"],[0.5555555555555556,\"#d8576b\"],[0.6666666666666666,\"#ed7953\"],[0.7777777777777778,\"#fb9f3a\"],[0.8888888888888888,\"#fdca26\"],[1.0,\"#f0f921\"]],\"type\":\"surface\"}],\"table\":[{\"cells\":{\"fill\":{\"color\":\"#EBF0F8\"},\"line\":{\"color\":\"white\"}},\"header\":{\"fill\":{\"color\":\"#C8D4E3\"},\"line\":{\"color\":\"white\"}},\"type\":\"table\"}]},\"layout\":{\"annotationdefaults\":{\"arrowcolor\":\"#2a3f5f\",\"arrowhead\":0,\"arrowwidth\":1},\"autotypenumbers\":\"strict\",\"coloraxis\":{\"colorbar\":{\"outlinewidth\":0,\"ticks\":\"\"}},\"colorscale\":{\"diverging\":[[0,\"#8e0152\"],[0.1,\"#c51b7d\"],[0.2,\"#de77ae\"],[0.3,\"#f1b6da\"],[0.4,\"#fde0ef\"],[0.5,\"#f7f7f7\"],[0.6,\"#e6f5d0\"],[0.7,\"#b8e186\"],[0.8,\"#7fbc41\"],[0.9,\"#4d9221\"],[1,\"#276419\"]],\"sequential\":[[0.0,\"#0d0887\"],[0.1111111111111111,\"#46039f\"],[0.2222222222222222,\"#7201a8\"],[0.3333333333333333,\"#9c179e\"],[0.4444444444444444,\"#bd3786\"],[0.5555555555555556,\"#d8576b\"],[0.6666666666666666,\"#ed7953\"],[0.7777777777777778,\"#fb9f3a\"],[0.8888888888888888,\"#fdca26\"],[1.0,\"#f0f921\"]],\"sequentialminus\":[[0.0,\"#0d0887\"],[0.1111111111111111,\"#46039f\"],[0.2222222222222222,\"#7201a8\"],[0.3333333333333333,\"#9c179e\"],[0.4444444444444444,\"#bd3786\"],[0.5555555555555556,\"#d8576b\"],[0.6666666666666666,\"#ed7953\"],[0.7777777777777778,\"#fb9f3a\"],[0.8888888888888888,\"#fdca26\"],[1.0,\"#f0f921\"]]},\"colorway\":[\"#636efa\",\"#EF553B\",\"#00cc96\",\"#ab63fa\",\"#FFA15A\",\"#19d3f3\",\"#FF6692\",\"#B6E880\",\"#FF97FF\",\"#FECB52\"],\"font\":{\"color\":\"#2a3f5f\"},\"geo\":{\"bgcolor\":\"white\",\"lakecolor\":\"white\",\"landcolor\":\"#E5ECF6\",\"showlakes\":true,\"showland\":true,\"subunitcolor\":\"white\"},\"hoverlabel\":{\"align\":\"left\"},\"hovermode\":\"closest\",\"mapbox\":{\"style\":\"light\"},\"paper_bgcolor\":\"white\",\"plot_bgcolor\":\"#E5ECF6\",\"polar\":{\"angularaxis\":{\"gridcolor\":\"white\",\"linecolor\":\"white\",\"ticks\":\"\"},\"bgcolor\":\"#E5ECF6\",\"radialaxis\":{\"gridcolor\":\"white\",\"linecolor\":\"white\",\"ticks\":\"\"}},\"scene\":{\"xaxis\":{\"backgroundcolor\":\"#E5ECF6\",\"gridcolor\":\"white\",\"gridwidth\":2,\"linecolor\":\"white\",\"showbackground\":true,\"ticks\":\"\",\"zerolinecolor\":\"white\"},\"yaxis\":{\"backgroundcolor\":\"#E5ECF6\",\"gridcolor\":\"white\",\"gridwidth\":2,\"linecolor\":\"white\",\"showbackground\":true,\"ticks\":\"\",\"zerolinecolor\":\"white\"},\"zaxis\":{\"backgroundcolor\":\"#E5ECF6\",\"gridcolor\":\"white\",\"gridwidth\":2,\"linecolor\":\"white\",\"showbackground\":true,\"ticks\":\"\",\"zerolinecolor\":\"white\"}},\"shapedefaults\":{\"line\":{\"color\":\"#2a3f5f\"}},\"ternary\":{\"aaxis\":{\"gridcolor\":\"white\",\"linecolor\":\"white\",\"ticks\":\"\"},\"baxis\":{\"gridcolor\":\"white\",\"linecolor\":\"white\",\"ticks\":\"\"},\"bgcolor\":\"#E5ECF6\",\"caxis\":{\"gridcolor\":\"white\",\"linecolor\":\"white\",\"ticks\":\"\"}},\"title\":{\"x\":0.05},\"xaxis\":{\"automargin\":true,\"gridcolor\":\"white\",\"linecolor\":\"white\",\"ticks\":\"\",\"title\":{\"standoff\":15},\"zerolinecolor\":\"white\",\"zerolinewidth\":2},\"yaxis\":{\"automargin\":true,\"gridcolor\":\"white\",\"linecolor\":\"white\",\"ticks\":\"\",\"title\":{\"standoff\":15},\"zerolinecolor\":\"white\",\"zerolinewidth\":2}}},\"title\":{\"text\":\"Year wise Patients\"},\"xaxis\":{\"anchor\":\"y\",\"domain\":[0.0,1.0],\"title\":{\"text\":\"year\"}},\"yaxis\":{\"anchor\":\"x\",\"domain\":[0.0,1.0],\"title\":{\"text\":\"Patients\"}}},                        {\"responsive\": true}                    ).then(function(){\n",
       "                            \n",
       "var gd = document.getElementById('2231cdfa-df63-4400-a690-0c409cc2e311');\n",
       "var x = new MutationObserver(function (mutations, observer) {{\n",
       "        var display = window.getComputedStyle(gd).display;\n",
       "        if (!display || display === 'none') {{\n",
       "            console.log([gd, 'removed!']);\n",
       "            Plotly.purge(gd);\n",
       "            observer.disconnect();\n",
       "        }}\n",
       "}});\n",
       "\n",
       "// Listen for the removal of the full notebook cells\n",
       "var notebookContainer = gd.closest('#notebook-container');\n",
       "if (notebookContainer) {{\n",
       "    x.observe(notebookContainer, {childList: true});\n",
       "}}\n",
       "\n",
       "// Listen for the clearing of the current output cell\n",
       "var outputEl = gd.closest('.output');\n",
       "if (outputEl) {{\n",
       "    x.observe(outputEl, {childList: true});\n",
       "}}\n",
       "\n",
       "                        })                };                });            </script>        </div>"
      ]
     },
     "metadata": {},
     "output_type": "display_data"
    }
   ],
   "source": [
    "import plotly.express as px\n",
    "dfg=merged_df.groupby(['year','admission_type']).count().reset_index()\n",
    "dfg=dfg.rename(columns={\"citizen_number\": \"Patients\"})\n",
    "\n",
    "# plot structure\n",
    "fig = px.bar(dfg,\n",
    "             x='year',\n",
    "             y='Patients',\n",
    "             title='Year wise Patients',\n",
    "             color='admission_type',\n",
    "             barmode='stack')\n",
    "\n",
    "# plot\n",
    "fig.show()\n"
   ]
  },
  {
   "cell_type": "markdown",
   "id": "e726469a",
   "metadata": {},
   "source": [
    "### Analysis Duration of admission of patients by type.\n",
    "#### There is no direct correlation between between type of admission and days admitted"
   ]
  },
  {
   "cell_type": "code",
   "execution_count": 62,
   "id": "3ae74058",
   "metadata": {},
   "outputs": [
    {
     "data": {
      "application/vnd.plotly.v1+json": {
       "config": {
        "plotlyServerURL": "https://plot.ly"
       },
       "data": [
        {
         "alignmentgroup": "True",
         "bingroup": "x",
         "hovertemplate": "admission_type=KR<br>days_admitted=%{x}<br>count=%{y}<extra></extra>",
         "legendgroup": "KR",
         "marker": {
          "color": "#636efa",
          "pattern": {
           "shape": ""
          }
         },
         "name": "KR",
         "nbinsx": 20,
         "offsetgroup": "KR",
         "orientation": "v",
         "showlegend": true,
         "type": "histogram",
         "x": [
          2,
          3,
          6,
          11,
          13,
          15,
          23,
          27,
          31,
          34,
          54,
          58,
          59,
          63,
          74,
          79,
          95,
          100,
          103,
          111,
          116,
          118,
          121,
          122,
          135,
          141,
          145,
          151,
          153,
          155,
          157,
          163,
          170,
          179,
          181,
          182,
          184,
          194,
          201,
          204,
          205,
          207,
          216,
          218,
          225,
          227,
          229,
          230,
          233,
          234,
          235,
          242,
          244,
          245,
          247,
          257,
          277,
          279,
          284,
          294,
          301,
          307,
          309,
          311,
          326,
          328,
          330,
          336,
          357,
          371,
          374,
          375,
          376,
          378,
          384,
          399,
          406,
          426,
          428,
          431,
          440,
          443,
          445,
          446,
          453,
          454,
          456,
          494,
          504,
          524,
          531,
          538,
          543,
          546,
          547,
          558,
          578,
          592,
          597,
          599,
          616,
          631,
          632,
          639,
          641,
          651,
          674,
          676,
          715,
          721,
          722,
          730,
          734,
          737,
          743,
          752,
          760,
          763,
          765,
          777,
          795,
          801,
          804,
          821,
          823,
          824,
          829,
          834,
          841,
          847,
          858,
          862,
          871,
          881,
          890,
          899,
          900,
          901,
          906,
          911,
          918,
          923,
          926,
          937,
          940,
          968,
          992,
          993,
          1034,
          1049,
          1068,
          1084,
          1096,
          1126,
          1143,
          1149,
          1169,
          1183,
          1191,
          1214,
          1248,
          1272,
          1276,
          1287,
          1292,
          1298,
          1301,
          1317,
          1318,
          1327,
          1334,
          1367,
          1391,
          1396,
          1401,
          1417,
          1422,
          1425,
          1445,
          1489,
          1514,
          1519,
          1536,
          1541,
          1553,
          1579,
          1584,
          1594,
          1636,
          1638,
          1721,
          1752,
          1758,
          1761,
          1766,
          1803,
          1804,
          1806,
          1823,
          1835,
          1862,
          1865,
          1967,
          1968,
          2036,
          2038,
          2095,
          2135,
          2200,
          2233,
          2250,
          2321,
          2323,
          2341,
          2372,
          2395,
          2431,
          2440,
          2445,
          2481,
          2494,
          2515,
          2522,
          2542,
          2552,
          2667,
          2683,
          2692,
          2704,
          2710,
          2714,
          2732,
          2818,
          2846,
          2866,
          3018,
          3088,
          3157,
          3242,
          3252,
          3517,
          3549
         ],
         "xaxis": "x",
         "yaxis": "y"
        },
        {
         "alignmentgroup": "True",
         "bingroup": "x",
         "hovertemplate": "admission_type=SD<br>days_admitted=%{x}<br>count=%{y}<extra></extra>",
         "legendgroup": "SD",
         "marker": {
          "color": "#EF553B",
          "pattern": {
           "shape": ""
          }
         },
         "name": "SD",
         "nbinsx": 20,
         "offsetgroup": "SD",
         "orientation": "v",
         "showlegend": true,
         "type": "histogram",
         "x": [
          2,
          3,
          8,
          9,
          15,
          19,
          32,
          34,
          35,
          39,
          41,
          44,
          47,
          54,
          59,
          67,
          69,
          70,
          71,
          72,
          73,
          75,
          76,
          80,
          84,
          94,
          97,
          102,
          107,
          110,
          113,
          120,
          122,
          130,
          132,
          133,
          136,
          141,
          146,
          148,
          154,
          157,
          167,
          176,
          179,
          180,
          189,
          200,
          207,
          211,
          212,
          218,
          228,
          238,
          248,
          257,
          261,
          262,
          263,
          264,
          271,
          272,
          324,
          328,
          333,
          344,
          350,
          354,
          360,
          361,
          399,
          401,
          415,
          446,
          449,
          463,
          466,
          469,
          493,
          496,
          497,
          508,
          514,
          517,
          532,
          537,
          541,
          549,
          563,
          565,
          580,
          587,
          591,
          600,
          602,
          603,
          615,
          626,
          639,
          644,
          645,
          657,
          669,
          675,
          679,
          695,
          715,
          727,
          759,
          766,
          770,
          781,
          782,
          800,
          818,
          819,
          832,
          839,
          843,
          847,
          852,
          855,
          862,
          868,
          882,
          898,
          900,
          904,
          912,
          960,
          1044,
          1046,
          1066,
          1068,
          1098,
          1137,
          1170,
          1180,
          1210,
          1221,
          1230,
          1249,
          1262,
          1273,
          1280,
          1296,
          1302,
          1311,
          1361,
          1385,
          1393,
          1426,
          1475,
          1510,
          1523,
          1535,
          1559,
          1587,
          1597,
          1602,
          1641,
          1642,
          1662,
          1677,
          1692,
          1721,
          1723,
          1731,
          1771,
          1795,
          1817,
          1818,
          1843,
          1878,
          1890,
          1960,
          1992,
          2023,
          2033,
          2037,
          2091,
          2101,
          2142,
          2148,
          2166,
          2181,
          2217,
          2248,
          2255,
          2288,
          2375,
          2403,
          2409,
          2411,
          2440,
          2464,
          2490,
          2568,
          2657,
          2728,
          2984,
          3085,
          3086,
          3201,
          3281,
          3440,
          3470,
          3623,
          3770
         ],
         "xaxis": "x",
         "yaxis": "y"
        },
        {
         "alignmentgroup": "True",
         "bingroup": "x",
         "hovertemplate": "admission_type=AC<br>days_admitted=%{x}<br>count=%{y}<extra></extra>",
         "legendgroup": "AC",
         "marker": {
          "color": "#00cc96",
          "pattern": {
           "shape": ""
          }
         },
         "name": "AC",
         "nbinsx": 20,
         "offsetgroup": "AC",
         "orientation": "v",
         "showlegend": true,
         "type": "histogram",
         "x": [
          3,
          8,
          10,
          11,
          12,
          14,
          15,
          16,
          17,
          21,
          22,
          27,
          33,
          37,
          40,
          43,
          50,
          52,
          53,
          54,
          56,
          57,
          60,
          61,
          62,
          64,
          80,
          83,
          84,
          85,
          87,
          97,
          98,
          99,
          101,
          119,
          122,
          128,
          130,
          134,
          140,
          148,
          149,
          152,
          155,
          159,
          167,
          168,
          173,
          174,
          182,
          210,
          213,
          222,
          237,
          243,
          244,
          249,
          273,
          286,
          306,
          309,
          313,
          317,
          319,
          321,
          322,
          333,
          340,
          341,
          363,
          366,
          369,
          371,
          379,
          383,
          385,
          395,
          409,
          411,
          427,
          428,
          440,
          444,
          446,
          461,
          463,
          465,
          468,
          469,
          492,
          500,
          510,
          511,
          520,
          526,
          529,
          556,
          557,
          567,
          571,
          583,
          588,
          590,
          595,
          596,
          623,
          633,
          636,
          646,
          666,
          696,
          697,
          698,
          705,
          722,
          733,
          740,
          742,
          760,
          771,
          778,
          785,
          795,
          806,
          813,
          830,
          835,
          838,
          856,
          857,
          864,
          873,
          901,
          902,
          912,
          913,
          921,
          926,
          934,
          948,
          954,
          955,
          964,
          1019,
          1023,
          1035,
          1049,
          1059,
          1086,
          1091,
          1121,
          1140,
          1173,
          1177,
          1179,
          1181,
          1184,
          1196,
          1199,
          1205,
          1218,
          1220,
          1238,
          1245,
          1248,
          1260,
          1265,
          1280,
          1300,
          1303,
          1330,
          1346,
          1381,
          1384,
          1390,
          1412,
          1417,
          1425,
          1452,
          1454,
          1464,
          1470,
          1474,
          1485,
          1508,
          1535,
          1609,
          1622,
          1665,
          1669,
          1690,
          1714,
          1730,
          1747,
          1812,
          1823,
          1873,
          1969,
          2035,
          2045,
          2048,
          2051,
          2090,
          2102,
          2109,
          2138,
          2140,
          2142,
          2159,
          2163,
          2185,
          2190,
          2282,
          2325,
          2363,
          2421,
          2433,
          2445,
          2450,
          2454,
          2464,
          2484,
          2494,
          2495,
          2516,
          2530,
          2558,
          2560,
          2563,
          2601,
          2685,
          2701,
          2725,
          2753,
          2804,
          2865,
          2878,
          2896,
          3191,
          3200,
          3233,
          3287,
          3576
         ],
         "xaxis": "x",
         "yaxis": "y"
        },
        {
         "alignmentgroup": "True",
         "bingroup": "x",
         "hovertemplate": "admission_type=ER<br>days_admitted=%{x}<br>count=%{y}<extra></extra>",
         "legendgroup": "ER",
         "marker": {
          "color": "#ab63fa",
          "pattern": {
           "shape": ""
          }
         },
         "name": "ER",
         "nbinsx": 20,
         "offsetgroup": "ER",
         "orientation": "v",
         "showlegend": true,
         "type": "histogram",
         "x": [
          4,
          6,
          7,
          9,
          12,
          16,
          17,
          20,
          21,
          22,
          23,
          28,
          30,
          47,
          58,
          61,
          63,
          68,
          74,
          81,
          94,
          97,
          105,
          110,
          111,
          113,
          118,
          121,
          122,
          130,
          131,
          136,
          142,
          143,
          145,
          148,
          149,
          159,
          163,
          166,
          175,
          198,
          200,
          206,
          211,
          249,
          253,
          254,
          256,
          258,
          259,
          269,
          271,
          273,
          275,
          278,
          286,
          291,
          293,
          294,
          297,
          302,
          310,
          315,
          316,
          325,
          329,
          342,
          362,
          366,
          368,
          369,
          372,
          376,
          377,
          381,
          383,
          387,
          388,
          402,
          407,
          409,
          413,
          414,
          422,
          428,
          429,
          433,
          448,
          453,
          454,
          461,
          468,
          482,
          488,
          500,
          520,
          522,
          537,
          540,
          546,
          562,
          566,
          568,
          582,
          586,
          587,
          612,
          624,
          628,
          638,
          640,
          654,
          656,
          661,
          666,
          673,
          712,
          716,
          726,
          729,
          735,
          737,
          755,
          761,
          765,
          786,
          791,
          799,
          800,
          834,
          845,
          849,
          857,
          862,
          886,
          887,
          920,
          928,
          948,
          957,
          962,
          968,
          970,
          971,
          984,
          994,
          1013,
          1020,
          1032,
          1087,
          1088,
          1095,
          1100,
          1104,
          1116,
          1120,
          1127,
          1131,
          1139,
          1170,
          1193,
          1200,
          1210,
          1218,
          1244,
          1262,
          1277,
          1303,
          1328,
          1392,
          1393,
          1396,
          1419,
          1424,
          1428,
          1437,
          1448,
          1454,
          1497,
          1500,
          1520,
          1545,
          1562,
          1566,
          1579,
          1681,
          1692,
          1695,
          1719,
          1727,
          1733,
          1738,
          1748,
          1753,
          1761,
          1765,
          1814,
          1873,
          1897,
          1934,
          1940,
          1952,
          2030,
          2047,
          2069,
          2071,
          2130,
          2138,
          2148,
          2166,
          2170,
          2201,
          2240,
          2270,
          2281,
          2350,
          2355,
          2365,
          2410,
          2452,
          2458,
          2507,
          2524,
          2532,
          2539,
          2542,
          2575,
          2598,
          2604,
          2639,
          2726,
          2872,
          2887,
          2966,
          3104,
          3265,
          3286,
          3610,
          3825
         ],
         "xaxis": "x",
         "yaxis": "y"
        }
       ],
       "layout": {
        "barmode": "relative",
        "legend": {
         "title": {
          "text": "admission_type"
         },
         "tracegroupgap": 0
        },
        "margin": {
         "t": 60
        },
        "template": {
         "data": {
          "bar": [
           {
            "error_x": {
             "color": "#2a3f5f"
            },
            "error_y": {
             "color": "#2a3f5f"
            },
            "marker": {
             "line": {
              "color": "#E5ECF6",
              "width": 0.5
             },
             "pattern": {
              "fillmode": "overlay",
              "size": 10,
              "solidity": 0.2
             }
            },
            "type": "bar"
           }
          ],
          "barpolar": [
           {
            "marker": {
             "line": {
              "color": "#E5ECF6",
              "width": 0.5
             },
             "pattern": {
              "fillmode": "overlay",
              "size": 10,
              "solidity": 0.2
             }
            },
            "type": "barpolar"
           }
          ],
          "carpet": [
           {
            "aaxis": {
             "endlinecolor": "#2a3f5f",
             "gridcolor": "white",
             "linecolor": "white",
             "minorgridcolor": "white",
             "startlinecolor": "#2a3f5f"
            },
            "baxis": {
             "endlinecolor": "#2a3f5f",
             "gridcolor": "white",
             "linecolor": "white",
             "minorgridcolor": "white",
             "startlinecolor": "#2a3f5f"
            },
            "type": "carpet"
           }
          ],
          "choropleth": [
           {
            "colorbar": {
             "outlinewidth": 0,
             "ticks": ""
            },
            "type": "choropleth"
           }
          ],
          "contour": [
           {
            "colorbar": {
             "outlinewidth": 0,
             "ticks": ""
            },
            "colorscale": [
             [
              0,
              "#0d0887"
             ],
             [
              0.1111111111111111,
              "#46039f"
             ],
             [
              0.2222222222222222,
              "#7201a8"
             ],
             [
              0.3333333333333333,
              "#9c179e"
             ],
             [
              0.4444444444444444,
              "#bd3786"
             ],
             [
              0.5555555555555556,
              "#d8576b"
             ],
             [
              0.6666666666666666,
              "#ed7953"
             ],
             [
              0.7777777777777778,
              "#fb9f3a"
             ],
             [
              0.8888888888888888,
              "#fdca26"
             ],
             [
              1,
              "#f0f921"
             ]
            ],
            "type": "contour"
           }
          ],
          "contourcarpet": [
           {
            "colorbar": {
             "outlinewidth": 0,
             "ticks": ""
            },
            "type": "contourcarpet"
           }
          ],
          "heatmap": [
           {
            "colorbar": {
             "outlinewidth": 0,
             "ticks": ""
            },
            "colorscale": [
             [
              0,
              "#0d0887"
             ],
             [
              0.1111111111111111,
              "#46039f"
             ],
             [
              0.2222222222222222,
              "#7201a8"
             ],
             [
              0.3333333333333333,
              "#9c179e"
             ],
             [
              0.4444444444444444,
              "#bd3786"
             ],
             [
              0.5555555555555556,
              "#d8576b"
             ],
             [
              0.6666666666666666,
              "#ed7953"
             ],
             [
              0.7777777777777778,
              "#fb9f3a"
             ],
             [
              0.8888888888888888,
              "#fdca26"
             ],
             [
              1,
              "#f0f921"
             ]
            ],
            "type": "heatmap"
           }
          ],
          "heatmapgl": [
           {
            "colorbar": {
             "outlinewidth": 0,
             "ticks": ""
            },
            "colorscale": [
             [
              0,
              "#0d0887"
             ],
             [
              0.1111111111111111,
              "#46039f"
             ],
             [
              0.2222222222222222,
              "#7201a8"
             ],
             [
              0.3333333333333333,
              "#9c179e"
             ],
             [
              0.4444444444444444,
              "#bd3786"
             ],
             [
              0.5555555555555556,
              "#d8576b"
             ],
             [
              0.6666666666666666,
              "#ed7953"
             ],
             [
              0.7777777777777778,
              "#fb9f3a"
             ],
             [
              0.8888888888888888,
              "#fdca26"
             ],
             [
              1,
              "#f0f921"
             ]
            ],
            "type": "heatmapgl"
           }
          ],
          "histogram": [
           {
            "marker": {
             "pattern": {
              "fillmode": "overlay",
              "size": 10,
              "solidity": 0.2
             }
            },
            "type": "histogram"
           }
          ],
          "histogram2d": [
           {
            "colorbar": {
             "outlinewidth": 0,
             "ticks": ""
            },
            "colorscale": [
             [
              0,
              "#0d0887"
             ],
             [
              0.1111111111111111,
              "#46039f"
             ],
             [
              0.2222222222222222,
              "#7201a8"
             ],
             [
              0.3333333333333333,
              "#9c179e"
             ],
             [
              0.4444444444444444,
              "#bd3786"
             ],
             [
              0.5555555555555556,
              "#d8576b"
             ],
             [
              0.6666666666666666,
              "#ed7953"
             ],
             [
              0.7777777777777778,
              "#fb9f3a"
             ],
             [
              0.8888888888888888,
              "#fdca26"
             ],
             [
              1,
              "#f0f921"
             ]
            ],
            "type": "histogram2d"
           }
          ],
          "histogram2dcontour": [
           {
            "colorbar": {
             "outlinewidth": 0,
             "ticks": ""
            },
            "colorscale": [
             [
              0,
              "#0d0887"
             ],
             [
              0.1111111111111111,
              "#46039f"
             ],
             [
              0.2222222222222222,
              "#7201a8"
             ],
             [
              0.3333333333333333,
              "#9c179e"
             ],
             [
              0.4444444444444444,
              "#bd3786"
             ],
             [
              0.5555555555555556,
              "#d8576b"
             ],
             [
              0.6666666666666666,
              "#ed7953"
             ],
             [
              0.7777777777777778,
              "#fb9f3a"
             ],
             [
              0.8888888888888888,
              "#fdca26"
             ],
             [
              1,
              "#f0f921"
             ]
            ],
            "type": "histogram2dcontour"
           }
          ],
          "mesh3d": [
           {
            "colorbar": {
             "outlinewidth": 0,
             "ticks": ""
            },
            "type": "mesh3d"
           }
          ],
          "parcoords": [
           {
            "line": {
             "colorbar": {
              "outlinewidth": 0,
              "ticks": ""
             }
            },
            "type": "parcoords"
           }
          ],
          "pie": [
           {
            "automargin": true,
            "type": "pie"
           }
          ],
          "scatter": [
           {
            "marker": {
             "colorbar": {
              "outlinewidth": 0,
              "ticks": ""
             }
            },
            "type": "scatter"
           }
          ],
          "scatter3d": [
           {
            "line": {
             "colorbar": {
              "outlinewidth": 0,
              "ticks": ""
             }
            },
            "marker": {
             "colorbar": {
              "outlinewidth": 0,
              "ticks": ""
             }
            },
            "type": "scatter3d"
           }
          ],
          "scattercarpet": [
           {
            "marker": {
             "colorbar": {
              "outlinewidth": 0,
              "ticks": ""
             }
            },
            "type": "scattercarpet"
           }
          ],
          "scattergeo": [
           {
            "marker": {
             "colorbar": {
              "outlinewidth": 0,
              "ticks": ""
             }
            },
            "type": "scattergeo"
           }
          ],
          "scattergl": [
           {
            "marker": {
             "colorbar": {
              "outlinewidth": 0,
              "ticks": ""
             }
            },
            "type": "scattergl"
           }
          ],
          "scattermapbox": [
           {
            "marker": {
             "colorbar": {
              "outlinewidth": 0,
              "ticks": ""
             }
            },
            "type": "scattermapbox"
           }
          ],
          "scatterpolar": [
           {
            "marker": {
             "colorbar": {
              "outlinewidth": 0,
              "ticks": ""
             }
            },
            "type": "scatterpolar"
           }
          ],
          "scatterpolargl": [
           {
            "marker": {
             "colorbar": {
              "outlinewidth": 0,
              "ticks": ""
             }
            },
            "type": "scatterpolargl"
           }
          ],
          "scatterternary": [
           {
            "marker": {
             "colorbar": {
              "outlinewidth": 0,
              "ticks": ""
             }
            },
            "type": "scatterternary"
           }
          ],
          "surface": [
           {
            "colorbar": {
             "outlinewidth": 0,
             "ticks": ""
            },
            "colorscale": [
             [
              0,
              "#0d0887"
             ],
             [
              0.1111111111111111,
              "#46039f"
             ],
             [
              0.2222222222222222,
              "#7201a8"
             ],
             [
              0.3333333333333333,
              "#9c179e"
             ],
             [
              0.4444444444444444,
              "#bd3786"
             ],
             [
              0.5555555555555556,
              "#d8576b"
             ],
             [
              0.6666666666666666,
              "#ed7953"
             ],
             [
              0.7777777777777778,
              "#fb9f3a"
             ],
             [
              0.8888888888888888,
              "#fdca26"
             ],
             [
              1,
              "#f0f921"
             ]
            ],
            "type": "surface"
           }
          ],
          "table": [
           {
            "cells": {
             "fill": {
              "color": "#EBF0F8"
             },
             "line": {
              "color": "white"
             }
            },
            "header": {
             "fill": {
              "color": "#C8D4E3"
             },
             "line": {
              "color": "white"
             }
            },
            "type": "table"
           }
          ]
         },
         "layout": {
          "annotationdefaults": {
           "arrowcolor": "#2a3f5f",
           "arrowhead": 0,
           "arrowwidth": 1
          },
          "autotypenumbers": "strict",
          "coloraxis": {
           "colorbar": {
            "outlinewidth": 0,
            "ticks": ""
           }
          },
          "colorscale": {
           "diverging": [
            [
             0,
             "#8e0152"
            ],
            [
             0.1,
             "#c51b7d"
            ],
            [
             0.2,
             "#de77ae"
            ],
            [
             0.3,
             "#f1b6da"
            ],
            [
             0.4,
             "#fde0ef"
            ],
            [
             0.5,
             "#f7f7f7"
            ],
            [
             0.6,
             "#e6f5d0"
            ],
            [
             0.7,
             "#b8e186"
            ],
            [
             0.8,
             "#7fbc41"
            ],
            [
             0.9,
             "#4d9221"
            ],
            [
             1,
             "#276419"
            ]
           ],
           "sequential": [
            [
             0,
             "#0d0887"
            ],
            [
             0.1111111111111111,
             "#46039f"
            ],
            [
             0.2222222222222222,
             "#7201a8"
            ],
            [
             0.3333333333333333,
             "#9c179e"
            ],
            [
             0.4444444444444444,
             "#bd3786"
            ],
            [
             0.5555555555555556,
             "#d8576b"
            ],
            [
             0.6666666666666666,
             "#ed7953"
            ],
            [
             0.7777777777777778,
             "#fb9f3a"
            ],
            [
             0.8888888888888888,
             "#fdca26"
            ],
            [
             1,
             "#f0f921"
            ]
           ],
           "sequentialminus": [
            [
             0,
             "#0d0887"
            ],
            [
             0.1111111111111111,
             "#46039f"
            ],
            [
             0.2222222222222222,
             "#7201a8"
            ],
            [
             0.3333333333333333,
             "#9c179e"
            ],
            [
             0.4444444444444444,
             "#bd3786"
            ],
            [
             0.5555555555555556,
             "#d8576b"
            ],
            [
             0.6666666666666666,
             "#ed7953"
            ],
            [
             0.7777777777777778,
             "#fb9f3a"
            ],
            [
             0.8888888888888888,
             "#fdca26"
            ],
            [
             1,
             "#f0f921"
            ]
           ]
          },
          "colorway": [
           "#636efa",
           "#EF553B",
           "#00cc96",
           "#ab63fa",
           "#FFA15A",
           "#19d3f3",
           "#FF6692",
           "#B6E880",
           "#FF97FF",
           "#FECB52"
          ],
          "font": {
           "color": "#2a3f5f"
          },
          "geo": {
           "bgcolor": "white",
           "lakecolor": "white",
           "landcolor": "#E5ECF6",
           "showlakes": true,
           "showland": true,
           "subunitcolor": "white"
          },
          "hoverlabel": {
           "align": "left"
          },
          "hovermode": "closest",
          "mapbox": {
           "style": "light"
          },
          "paper_bgcolor": "white",
          "plot_bgcolor": "#E5ECF6",
          "polar": {
           "angularaxis": {
            "gridcolor": "white",
            "linecolor": "white",
            "ticks": ""
           },
           "bgcolor": "#E5ECF6",
           "radialaxis": {
            "gridcolor": "white",
            "linecolor": "white",
            "ticks": ""
           }
          },
          "scene": {
           "xaxis": {
            "backgroundcolor": "#E5ECF6",
            "gridcolor": "white",
            "gridwidth": 2,
            "linecolor": "white",
            "showbackground": true,
            "ticks": "",
            "zerolinecolor": "white"
           },
           "yaxis": {
            "backgroundcolor": "#E5ECF6",
            "gridcolor": "white",
            "gridwidth": 2,
            "linecolor": "white",
            "showbackground": true,
            "ticks": "",
            "zerolinecolor": "white"
           },
           "zaxis": {
            "backgroundcolor": "#E5ECF6",
            "gridcolor": "white",
            "gridwidth": 2,
            "linecolor": "white",
            "showbackground": true,
            "ticks": "",
            "zerolinecolor": "white"
           }
          },
          "shapedefaults": {
           "line": {
            "color": "#2a3f5f"
           }
          },
          "ternary": {
           "aaxis": {
            "gridcolor": "white",
            "linecolor": "white",
            "ticks": ""
           },
           "baxis": {
            "gridcolor": "white",
            "linecolor": "white",
            "ticks": ""
           },
           "bgcolor": "#E5ECF6",
           "caxis": {
            "gridcolor": "white",
            "linecolor": "white",
            "ticks": ""
           }
          },
          "title": {
           "x": 0.05
          },
          "xaxis": {
           "automargin": true,
           "gridcolor": "white",
           "linecolor": "white",
           "ticks": "",
           "title": {
            "standoff": 15
           },
           "zerolinecolor": "white",
           "zerolinewidth": 2
          },
          "yaxis": {
           "automargin": true,
           "gridcolor": "white",
           "linecolor": "white",
           "ticks": "",
           "title": {
            "standoff": 15
           },
           "zerolinecolor": "white",
           "zerolinewidth": 2
          }
         }
        },
        "xaxis": {
         "anchor": "y",
         "domain": [
          0,
          1
         ],
         "title": {
          "text": "days_admitted"
         }
        },
        "yaxis": {
         "anchor": "x",
         "domain": [
          0,
          1
         ],
         "title": {
          "text": "count"
         }
        }
       }
      },
      "text/html": [
       "<div>                            <div id=\"d02534d5-b4f1-4030-8850-9fefa61a1a9e\" class=\"plotly-graph-div\" style=\"height:525px; width:100%;\"></div>            <script type=\"text/javascript\">                require([\"plotly\"], function(Plotly) {                    window.PLOTLYENV=window.PLOTLYENV || {};                                    if (document.getElementById(\"d02534d5-b4f1-4030-8850-9fefa61a1a9e\")) {                    Plotly.newPlot(                        \"d02534d5-b4f1-4030-8850-9fefa61a1a9e\",                        [{\"alignmentgroup\":\"True\",\"bingroup\":\"x\",\"hovertemplate\":\"admission_type=KR<br>days_admitted=%{x}<br>count=%{y}<extra></extra>\",\"legendgroup\":\"KR\",\"marker\":{\"color\":\"#636efa\",\"pattern\":{\"shape\":\"\"}},\"name\":\"KR\",\"nbinsx\":20,\"offsetgroup\":\"KR\",\"orientation\":\"v\",\"showlegend\":true,\"type\":\"histogram\",\"x\":[2.0,3.0,6.0,11.0,13.0,15.0,23.0,27.0,31.0,34.0,54.0,58.0,59.0,63.0,74.0,79.0,95.0,100.0,103.0,111.0,116.0,118.0,121.0,122.0,135.0,141.0,145.0,151.0,153.0,155.0,157.0,163.0,170.0,179.0,181.0,182.0,184.0,194.0,201.0,204.0,205.0,207.0,216.0,218.0,225.0,227.0,229.0,230.0,233.0,234.0,235.0,242.0,244.0,245.0,247.0,257.0,277.0,279.0,284.0,294.0,301.0,307.0,309.0,311.0,326.0,328.0,330.0,336.0,357.0,371.0,374.0,375.0,376.0,378.0,384.0,399.0,406.0,426.0,428.0,431.0,440.0,443.0,445.0,446.0,453.0,454.0,456.0,494.0,504.0,524.0,531.0,538.0,543.0,546.0,547.0,558.0,578.0,592.0,597.0,599.0,616.0,631.0,632.0,639.0,641.0,651.0,674.0,676.0,715.0,721.0,722.0,730.0,734.0,737.0,743.0,752.0,760.0,763.0,765.0,777.0,795.0,801.0,804.0,821.0,823.0,824.0,829.0,834.0,841.0,847.0,858.0,862.0,871.0,881.0,890.0,899.0,900.0,901.0,906.0,911.0,918.0,923.0,926.0,937.0,940.0,968.0,992.0,993.0,1034.0,1049.0,1068.0,1084.0,1096.0,1126.0,1143.0,1149.0,1169.0,1183.0,1191.0,1214.0,1248.0,1272.0,1276.0,1287.0,1292.0,1298.0,1301.0,1317.0,1318.0,1327.0,1334.0,1367.0,1391.0,1396.0,1401.0,1417.0,1422.0,1425.0,1445.0,1489.0,1514.0,1519.0,1536.0,1541.0,1553.0,1579.0,1584.0,1594.0,1636.0,1638.0,1721.0,1752.0,1758.0,1761.0,1766.0,1803.0,1804.0,1806.0,1823.0,1835.0,1862.0,1865.0,1967.0,1968.0,2036.0,2038.0,2095.0,2135.0,2200.0,2233.0,2250.0,2321.0,2323.0,2341.0,2372.0,2395.0,2431.0,2440.0,2445.0,2481.0,2494.0,2515.0,2522.0,2542.0,2552.0,2667.0,2683.0,2692.0,2704.0,2710.0,2714.0,2732.0,2818.0,2846.0,2866.0,3018.0,3088.0,3157.0,3242.0,3252.0,3517.0,3549.0],\"xaxis\":\"x\",\"yaxis\":\"y\"},{\"alignmentgroup\":\"True\",\"bingroup\":\"x\",\"hovertemplate\":\"admission_type=SD<br>days_admitted=%{x}<br>count=%{y}<extra></extra>\",\"legendgroup\":\"SD\",\"marker\":{\"color\":\"#EF553B\",\"pattern\":{\"shape\":\"\"}},\"name\":\"SD\",\"nbinsx\":20,\"offsetgroup\":\"SD\",\"orientation\":\"v\",\"showlegend\":true,\"type\":\"histogram\",\"x\":[2.0,3.0,8.0,9.0,15.0,19.0,32.0,34.0,35.0,39.0,41.0,44.0,47.0,54.0,59.0,67.0,69.0,70.0,71.0,72.0,73.0,75.0,76.0,80.0,84.0,94.0,97.0,102.0,107.0,110.0,113.0,120.0,122.0,130.0,132.0,133.0,136.0,141.0,146.0,148.0,154.0,157.0,167.0,176.0,179.0,180.0,189.0,200.0,207.0,211.0,212.0,218.0,228.0,238.0,248.0,257.0,261.0,262.0,263.0,264.0,271.0,272.0,324.0,328.0,333.0,344.0,350.0,354.0,360.0,361.0,399.0,401.0,415.0,446.0,449.0,463.0,466.0,469.0,493.0,496.0,497.0,508.0,514.0,517.0,532.0,537.0,541.0,549.0,563.0,565.0,580.0,587.0,591.0,600.0,602.0,603.0,615.0,626.0,639.0,644.0,645.0,657.0,669.0,675.0,679.0,695.0,715.0,727.0,759.0,766.0,770.0,781.0,782.0,800.0,818.0,819.0,832.0,839.0,843.0,847.0,852.0,855.0,862.0,868.0,882.0,898.0,900.0,904.0,912.0,960.0,1044.0,1046.0,1066.0,1068.0,1098.0,1137.0,1170.0,1180.0,1210.0,1221.0,1230.0,1249.0,1262.0,1273.0,1280.0,1296.0,1302.0,1311.0,1361.0,1385.0,1393.0,1426.0,1475.0,1510.0,1523.0,1535.0,1559.0,1587.0,1597.0,1602.0,1641.0,1642.0,1662.0,1677.0,1692.0,1721.0,1723.0,1731.0,1771.0,1795.0,1817.0,1818.0,1843.0,1878.0,1890.0,1960.0,1992.0,2023.0,2033.0,2037.0,2091.0,2101.0,2142.0,2148.0,2166.0,2181.0,2217.0,2248.0,2255.0,2288.0,2375.0,2403.0,2409.0,2411.0,2440.0,2464.0,2490.0,2568.0,2657.0,2728.0,2984.0,3085.0,3086.0,3201.0,3281.0,3440.0,3470.0,3623.0,3770.0],\"xaxis\":\"x\",\"yaxis\":\"y\"},{\"alignmentgroup\":\"True\",\"bingroup\":\"x\",\"hovertemplate\":\"admission_type=AC<br>days_admitted=%{x}<br>count=%{y}<extra></extra>\",\"legendgroup\":\"AC\",\"marker\":{\"color\":\"#00cc96\",\"pattern\":{\"shape\":\"\"}},\"name\":\"AC\",\"nbinsx\":20,\"offsetgroup\":\"AC\",\"orientation\":\"v\",\"showlegend\":true,\"type\":\"histogram\",\"x\":[3.0,8.0,10.0,11.0,12.0,14.0,15.0,16.0,17.0,21.0,22.0,27.0,33.0,37.0,40.0,43.0,50.0,52.0,53.0,54.0,56.0,57.0,60.0,61.0,62.0,64.0,80.0,83.0,84.0,85.0,87.0,97.0,98.0,99.0,101.0,119.0,122.0,128.0,130.0,134.0,140.0,148.0,149.0,152.0,155.0,159.0,167.0,168.0,173.0,174.0,182.0,210.0,213.0,222.0,237.0,243.0,244.0,249.0,273.0,286.0,306.0,309.0,313.0,317.0,319.0,321.0,322.0,333.0,340.0,341.0,363.0,366.0,369.0,371.0,379.0,383.0,385.0,395.0,409.0,411.0,427.0,428.0,440.0,444.0,446.0,461.0,463.0,465.0,468.0,469.0,492.0,500.0,510.0,511.0,520.0,526.0,529.0,556.0,557.0,567.0,571.0,583.0,588.0,590.0,595.0,596.0,623.0,633.0,636.0,646.0,666.0,696.0,697.0,698.0,705.0,722.0,733.0,740.0,742.0,760.0,771.0,778.0,785.0,795.0,806.0,813.0,830.0,835.0,838.0,856.0,857.0,864.0,873.0,901.0,902.0,912.0,913.0,921.0,926.0,934.0,948.0,954.0,955.0,964.0,1019.0,1023.0,1035.0,1049.0,1059.0,1086.0,1091.0,1121.0,1140.0,1173.0,1177.0,1179.0,1181.0,1184.0,1196.0,1199.0,1205.0,1218.0,1220.0,1238.0,1245.0,1248.0,1260.0,1265.0,1280.0,1300.0,1303.0,1330.0,1346.0,1381.0,1384.0,1390.0,1412.0,1417.0,1425.0,1452.0,1454.0,1464.0,1470.0,1474.0,1485.0,1508.0,1535.0,1609.0,1622.0,1665.0,1669.0,1690.0,1714.0,1730.0,1747.0,1812.0,1823.0,1873.0,1969.0,2035.0,2045.0,2048.0,2051.0,2090.0,2102.0,2109.0,2138.0,2140.0,2142.0,2159.0,2163.0,2185.0,2190.0,2282.0,2325.0,2363.0,2421.0,2433.0,2445.0,2450.0,2454.0,2464.0,2484.0,2494.0,2495.0,2516.0,2530.0,2558.0,2560.0,2563.0,2601.0,2685.0,2701.0,2725.0,2753.0,2804.0,2865.0,2878.0,2896.0,3191.0,3200.0,3233.0,3287.0,3576.0],\"xaxis\":\"x\",\"yaxis\":\"y\"},{\"alignmentgroup\":\"True\",\"bingroup\":\"x\",\"hovertemplate\":\"admission_type=ER<br>days_admitted=%{x}<br>count=%{y}<extra></extra>\",\"legendgroup\":\"ER\",\"marker\":{\"color\":\"#ab63fa\",\"pattern\":{\"shape\":\"\"}},\"name\":\"ER\",\"nbinsx\":20,\"offsetgroup\":\"ER\",\"orientation\":\"v\",\"showlegend\":true,\"type\":\"histogram\",\"x\":[4.0,6.0,7.0,9.0,12.0,16.0,17.0,20.0,21.0,22.0,23.0,28.0,30.0,47.0,58.0,61.0,63.0,68.0,74.0,81.0,94.0,97.0,105.0,110.0,111.0,113.0,118.0,121.0,122.0,130.0,131.0,136.0,142.0,143.0,145.0,148.0,149.0,159.0,163.0,166.0,175.0,198.0,200.0,206.0,211.0,249.0,253.0,254.0,256.0,258.0,259.0,269.0,271.0,273.0,275.0,278.0,286.0,291.0,293.0,294.0,297.0,302.0,310.0,315.0,316.0,325.0,329.0,342.0,362.0,366.0,368.0,369.0,372.0,376.0,377.0,381.0,383.0,387.0,388.0,402.0,407.0,409.0,413.0,414.0,422.0,428.0,429.0,433.0,448.0,453.0,454.0,461.0,468.0,482.0,488.0,500.0,520.0,522.0,537.0,540.0,546.0,562.0,566.0,568.0,582.0,586.0,587.0,612.0,624.0,628.0,638.0,640.0,654.0,656.0,661.0,666.0,673.0,712.0,716.0,726.0,729.0,735.0,737.0,755.0,761.0,765.0,786.0,791.0,799.0,800.0,834.0,845.0,849.0,857.0,862.0,886.0,887.0,920.0,928.0,948.0,957.0,962.0,968.0,970.0,971.0,984.0,994.0,1013.0,1020.0,1032.0,1087.0,1088.0,1095.0,1100.0,1104.0,1116.0,1120.0,1127.0,1131.0,1139.0,1170.0,1193.0,1200.0,1210.0,1218.0,1244.0,1262.0,1277.0,1303.0,1328.0,1392.0,1393.0,1396.0,1419.0,1424.0,1428.0,1437.0,1448.0,1454.0,1497.0,1500.0,1520.0,1545.0,1562.0,1566.0,1579.0,1681.0,1692.0,1695.0,1719.0,1727.0,1733.0,1738.0,1748.0,1753.0,1761.0,1765.0,1814.0,1873.0,1897.0,1934.0,1940.0,1952.0,2030.0,2047.0,2069.0,2071.0,2130.0,2138.0,2148.0,2166.0,2170.0,2201.0,2240.0,2270.0,2281.0,2350.0,2355.0,2365.0,2410.0,2452.0,2458.0,2507.0,2524.0,2532.0,2539.0,2542.0,2575.0,2598.0,2604.0,2639.0,2726.0,2872.0,2887.0,2966.0,3104.0,3265.0,3286.0,3610.0,3825.0],\"xaxis\":\"x\",\"yaxis\":\"y\"}],                        {\"barmode\":\"relative\",\"legend\":{\"title\":{\"text\":\"admission_type\"},\"tracegroupgap\":0},\"margin\":{\"t\":60},\"template\":{\"data\":{\"bar\":[{\"error_x\":{\"color\":\"#2a3f5f\"},\"error_y\":{\"color\":\"#2a3f5f\"},\"marker\":{\"line\":{\"color\":\"#E5ECF6\",\"width\":0.5},\"pattern\":{\"fillmode\":\"overlay\",\"size\":10,\"solidity\":0.2}},\"type\":\"bar\"}],\"barpolar\":[{\"marker\":{\"line\":{\"color\":\"#E5ECF6\",\"width\":0.5},\"pattern\":{\"fillmode\":\"overlay\",\"size\":10,\"solidity\":0.2}},\"type\":\"barpolar\"}],\"carpet\":[{\"aaxis\":{\"endlinecolor\":\"#2a3f5f\",\"gridcolor\":\"white\",\"linecolor\":\"white\",\"minorgridcolor\":\"white\",\"startlinecolor\":\"#2a3f5f\"},\"baxis\":{\"endlinecolor\":\"#2a3f5f\",\"gridcolor\":\"white\",\"linecolor\":\"white\",\"minorgridcolor\":\"white\",\"startlinecolor\":\"#2a3f5f\"},\"type\":\"carpet\"}],\"choropleth\":[{\"colorbar\":{\"outlinewidth\":0,\"ticks\":\"\"},\"type\":\"choropleth\"}],\"contour\":[{\"colorbar\":{\"outlinewidth\":0,\"ticks\":\"\"},\"colorscale\":[[0.0,\"#0d0887\"],[0.1111111111111111,\"#46039f\"],[0.2222222222222222,\"#7201a8\"],[0.3333333333333333,\"#9c179e\"],[0.4444444444444444,\"#bd3786\"],[0.5555555555555556,\"#d8576b\"],[0.6666666666666666,\"#ed7953\"],[0.7777777777777778,\"#fb9f3a\"],[0.8888888888888888,\"#fdca26\"],[1.0,\"#f0f921\"]],\"type\":\"contour\"}],\"contourcarpet\":[{\"colorbar\":{\"outlinewidth\":0,\"ticks\":\"\"},\"type\":\"contourcarpet\"}],\"heatmap\":[{\"colorbar\":{\"outlinewidth\":0,\"ticks\":\"\"},\"colorscale\":[[0.0,\"#0d0887\"],[0.1111111111111111,\"#46039f\"],[0.2222222222222222,\"#7201a8\"],[0.3333333333333333,\"#9c179e\"],[0.4444444444444444,\"#bd3786\"],[0.5555555555555556,\"#d8576b\"],[0.6666666666666666,\"#ed7953\"],[0.7777777777777778,\"#fb9f3a\"],[0.8888888888888888,\"#fdca26\"],[1.0,\"#f0f921\"]],\"type\":\"heatmap\"}],\"heatmapgl\":[{\"colorbar\":{\"outlinewidth\":0,\"ticks\":\"\"},\"colorscale\":[[0.0,\"#0d0887\"],[0.1111111111111111,\"#46039f\"],[0.2222222222222222,\"#7201a8\"],[0.3333333333333333,\"#9c179e\"],[0.4444444444444444,\"#bd3786\"],[0.5555555555555556,\"#d8576b\"],[0.6666666666666666,\"#ed7953\"],[0.7777777777777778,\"#fb9f3a\"],[0.8888888888888888,\"#fdca26\"],[1.0,\"#f0f921\"]],\"type\":\"heatmapgl\"}],\"histogram\":[{\"marker\":{\"pattern\":{\"fillmode\":\"overlay\",\"size\":10,\"solidity\":0.2}},\"type\":\"histogram\"}],\"histogram2d\":[{\"colorbar\":{\"outlinewidth\":0,\"ticks\":\"\"},\"colorscale\":[[0.0,\"#0d0887\"],[0.1111111111111111,\"#46039f\"],[0.2222222222222222,\"#7201a8\"],[0.3333333333333333,\"#9c179e\"],[0.4444444444444444,\"#bd3786\"],[0.5555555555555556,\"#d8576b\"],[0.6666666666666666,\"#ed7953\"],[0.7777777777777778,\"#fb9f3a\"],[0.8888888888888888,\"#fdca26\"],[1.0,\"#f0f921\"]],\"type\":\"histogram2d\"}],\"histogram2dcontour\":[{\"colorbar\":{\"outlinewidth\":0,\"ticks\":\"\"},\"colorscale\":[[0.0,\"#0d0887\"],[0.1111111111111111,\"#46039f\"],[0.2222222222222222,\"#7201a8\"],[0.3333333333333333,\"#9c179e\"],[0.4444444444444444,\"#bd3786\"],[0.5555555555555556,\"#d8576b\"],[0.6666666666666666,\"#ed7953\"],[0.7777777777777778,\"#fb9f3a\"],[0.8888888888888888,\"#fdca26\"],[1.0,\"#f0f921\"]],\"type\":\"histogram2dcontour\"}],\"mesh3d\":[{\"colorbar\":{\"outlinewidth\":0,\"ticks\":\"\"},\"type\":\"mesh3d\"}],\"parcoords\":[{\"line\":{\"colorbar\":{\"outlinewidth\":0,\"ticks\":\"\"}},\"type\":\"parcoords\"}],\"pie\":[{\"automargin\":true,\"type\":\"pie\"}],\"scatter\":[{\"marker\":{\"colorbar\":{\"outlinewidth\":0,\"ticks\":\"\"}},\"type\":\"scatter\"}],\"scatter3d\":[{\"line\":{\"colorbar\":{\"outlinewidth\":0,\"ticks\":\"\"}},\"marker\":{\"colorbar\":{\"outlinewidth\":0,\"ticks\":\"\"}},\"type\":\"scatter3d\"}],\"scattercarpet\":[{\"marker\":{\"colorbar\":{\"outlinewidth\":0,\"ticks\":\"\"}},\"type\":\"scattercarpet\"}],\"scattergeo\":[{\"marker\":{\"colorbar\":{\"outlinewidth\":0,\"ticks\":\"\"}},\"type\":\"scattergeo\"}],\"scattergl\":[{\"marker\":{\"colorbar\":{\"outlinewidth\":0,\"ticks\":\"\"}},\"type\":\"scattergl\"}],\"scattermapbox\":[{\"marker\":{\"colorbar\":{\"outlinewidth\":0,\"ticks\":\"\"}},\"type\":\"scattermapbox\"}],\"scatterpolar\":[{\"marker\":{\"colorbar\":{\"outlinewidth\":0,\"ticks\":\"\"}},\"type\":\"scatterpolar\"}],\"scatterpolargl\":[{\"marker\":{\"colorbar\":{\"outlinewidth\":0,\"ticks\":\"\"}},\"type\":\"scatterpolargl\"}],\"scatterternary\":[{\"marker\":{\"colorbar\":{\"outlinewidth\":0,\"ticks\":\"\"}},\"type\":\"scatterternary\"}],\"surface\":[{\"colorbar\":{\"outlinewidth\":0,\"ticks\":\"\"},\"colorscale\":[[0.0,\"#0d0887\"],[0.1111111111111111,\"#46039f\"],[0.2222222222222222,\"#7201a8\"],[0.3333333333333333,\"#9c179e\"],[0.4444444444444444,\"#bd3786\"],[0.5555555555555556,\"#d8576b\"],[0.6666666666666666,\"#ed7953\"],[0.7777777777777778,\"#fb9f3a\"],[0.8888888888888888,\"#fdca26\"],[1.0,\"#f0f921\"]],\"type\":\"surface\"}],\"table\":[{\"cells\":{\"fill\":{\"color\":\"#EBF0F8\"},\"line\":{\"color\":\"white\"}},\"header\":{\"fill\":{\"color\":\"#C8D4E3\"},\"line\":{\"color\":\"white\"}},\"type\":\"table\"}]},\"layout\":{\"annotationdefaults\":{\"arrowcolor\":\"#2a3f5f\",\"arrowhead\":0,\"arrowwidth\":1},\"autotypenumbers\":\"strict\",\"coloraxis\":{\"colorbar\":{\"outlinewidth\":0,\"ticks\":\"\"}},\"colorscale\":{\"diverging\":[[0,\"#8e0152\"],[0.1,\"#c51b7d\"],[0.2,\"#de77ae\"],[0.3,\"#f1b6da\"],[0.4,\"#fde0ef\"],[0.5,\"#f7f7f7\"],[0.6,\"#e6f5d0\"],[0.7,\"#b8e186\"],[0.8,\"#7fbc41\"],[0.9,\"#4d9221\"],[1,\"#276419\"]],\"sequential\":[[0.0,\"#0d0887\"],[0.1111111111111111,\"#46039f\"],[0.2222222222222222,\"#7201a8\"],[0.3333333333333333,\"#9c179e\"],[0.4444444444444444,\"#bd3786\"],[0.5555555555555556,\"#d8576b\"],[0.6666666666666666,\"#ed7953\"],[0.7777777777777778,\"#fb9f3a\"],[0.8888888888888888,\"#fdca26\"],[1.0,\"#f0f921\"]],\"sequentialminus\":[[0.0,\"#0d0887\"],[0.1111111111111111,\"#46039f\"],[0.2222222222222222,\"#7201a8\"],[0.3333333333333333,\"#9c179e\"],[0.4444444444444444,\"#bd3786\"],[0.5555555555555556,\"#d8576b\"],[0.6666666666666666,\"#ed7953\"],[0.7777777777777778,\"#fb9f3a\"],[0.8888888888888888,\"#fdca26\"],[1.0,\"#f0f921\"]]},\"colorway\":[\"#636efa\",\"#EF553B\",\"#00cc96\",\"#ab63fa\",\"#FFA15A\",\"#19d3f3\",\"#FF6692\",\"#B6E880\",\"#FF97FF\",\"#FECB52\"],\"font\":{\"color\":\"#2a3f5f\"},\"geo\":{\"bgcolor\":\"white\",\"lakecolor\":\"white\",\"landcolor\":\"#E5ECF6\",\"showlakes\":true,\"showland\":true,\"subunitcolor\":\"white\"},\"hoverlabel\":{\"align\":\"left\"},\"hovermode\":\"closest\",\"mapbox\":{\"style\":\"light\"},\"paper_bgcolor\":\"white\",\"plot_bgcolor\":\"#E5ECF6\",\"polar\":{\"angularaxis\":{\"gridcolor\":\"white\",\"linecolor\":\"white\",\"ticks\":\"\"},\"bgcolor\":\"#E5ECF6\",\"radialaxis\":{\"gridcolor\":\"white\",\"linecolor\":\"white\",\"ticks\":\"\"}},\"scene\":{\"xaxis\":{\"backgroundcolor\":\"#E5ECF6\",\"gridcolor\":\"white\",\"gridwidth\":2,\"linecolor\":\"white\",\"showbackground\":true,\"ticks\":\"\",\"zerolinecolor\":\"white\"},\"yaxis\":{\"backgroundcolor\":\"#E5ECF6\",\"gridcolor\":\"white\",\"gridwidth\":2,\"linecolor\":\"white\",\"showbackground\":true,\"ticks\":\"\",\"zerolinecolor\":\"white\"},\"zaxis\":{\"backgroundcolor\":\"#E5ECF6\",\"gridcolor\":\"white\",\"gridwidth\":2,\"linecolor\":\"white\",\"showbackground\":true,\"ticks\":\"\",\"zerolinecolor\":\"white\"}},\"shapedefaults\":{\"line\":{\"color\":\"#2a3f5f\"}},\"ternary\":{\"aaxis\":{\"gridcolor\":\"white\",\"linecolor\":\"white\",\"ticks\":\"\"},\"baxis\":{\"gridcolor\":\"white\",\"linecolor\":\"white\",\"ticks\":\"\"},\"bgcolor\":\"#E5ECF6\",\"caxis\":{\"gridcolor\":\"white\",\"linecolor\":\"white\",\"ticks\":\"\"}},\"title\":{\"x\":0.05},\"xaxis\":{\"automargin\":true,\"gridcolor\":\"white\",\"linecolor\":\"white\",\"ticks\":\"\",\"title\":{\"standoff\":15},\"zerolinecolor\":\"white\",\"zerolinewidth\":2},\"yaxis\":{\"automargin\":true,\"gridcolor\":\"white\",\"linecolor\":\"white\",\"ticks\":\"\",\"title\":{\"standoff\":15},\"zerolinecolor\":\"white\",\"zerolinewidth\":2}}},\"xaxis\":{\"anchor\":\"y\",\"domain\":[0.0,1.0],\"title\":{\"text\":\"days_admitted\"}},\"yaxis\":{\"anchor\":\"x\",\"domain\":[0.0,1.0],\"title\":{\"text\":\"count\"}}},                        {\"responsive\": true}                    ).then(function(){\n",
       "                            \n",
       "var gd = document.getElementById('d02534d5-b4f1-4030-8850-9fefa61a1a9e');\n",
       "var x = new MutationObserver(function (mutations, observer) {{\n",
       "        var display = window.getComputedStyle(gd).display;\n",
       "        if (!display || display === 'none') {{\n",
       "            console.log([gd, 'removed!']);\n",
       "            Plotly.purge(gd);\n",
       "            observer.disconnect();\n",
       "        }}\n",
       "}});\n",
       "\n",
       "// Listen for the removal of the full notebook cells\n",
       "var notebookContainer = gd.closest('#notebook-container');\n",
       "if (notebookContainer) {{\n",
       "    x.observe(notebookContainer, {childList: true});\n",
       "}}\n",
       "\n",
       "// Listen for the clearing of the current output cell\n",
       "var outputEl = gd.closest('.output');\n",
       "if (outputEl) {{\n",
       "    x.observe(outputEl, {childList: true});\n",
       "}}\n",
       "\n",
       "                        })                };                });            </script>        </div>"
      ]
     },
     "metadata": {},
     "output_type": "display_data"
    }
   ],
   "source": [
    "# merged_df['days_admitted'].describe()\n",
    "import plotly.express as px\n",
    "\n",
    "\n",
    "merged_df['days_admitted']=(pd.to_datetime(merged_df['discharge_date'])-pd.to_datetime(merged_df['admission_date'])).dt.days\n",
    "dfg=merged_df.groupby(['days_admitted','admission_type']).count().reset_index()\n",
    "dfg=dfg.rename(columns={\"citizen_number\": \"Patients\"})\n",
    "\n",
    "\n",
    "fig = px.histogram(dfg, x=\"days_admitted\", color=\"admission_type\", nbins=20)\n",
    "# fig.ticklabel_format(useOffset=False)\n",
    "fig.show()\n"
   ]
  }
 ],
 "metadata": {
  "kernelspec": {
   "display_name": "Python 3",
   "language": "python",
   "name": "python3"
  },
  "language_info": {
   "codemirror_mode": {
    "name": "ipython",
    "version": 3
   },
   "file_extension": ".py",
   "mimetype": "text/x-python",
   "name": "python",
   "nbconvert_exporter": "python",
   "pygments_lexer": "ipython3",
   "version": "3.8.8"
  }
 },
 "nbformat": 4,
 "nbformat_minor": 5
}
